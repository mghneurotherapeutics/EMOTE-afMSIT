{
 "cells": [
  {
   "cell_type": "markdown",
   "metadata": {},
   "source": [
    "\n",
    "# General Plotting\n",
    "## Primary Results\n",
    "### Time Domain"
   ]
  },
  {
   "cell_type": "code",
   "execution_count": null,
   "metadata": {
    "collapsed": true
   },
   "outputs": [],
   "source": [
    "import os\n",
    "import numpy as np\n",
    "import pylab as plt\n",
    "from pandas import read_csv\n",
    "\n",
    "#~~~~~~~~~~~~~~~~~~~~~~~~~~~~~~~~~~~~~~~~~~~~~~~~~~~#\n",
    "### Define parameters.\n",
    "#~~~~~~~~~~~~~~~~~~~~~~~~~~~~~~~~~~~~~~~~~~~~~~~~~~~#\n",
    "\n",
    "## File parameters.\n",
    "labels = ['dacc-lh', 'dacc-rh', 'dmpfc-lh', 'dmpfc-rh', 'dlpfc_1-lh', 'dlpfc_1-rh', 'dlpfc_2-lh', 'dlpfc_2-rh', \n",
    "          'dlpfc_3-lh', 'dlpfc_3-rh', 'dlpfc_4-lh', 'dlpfc_4-rh', 'dlpfc_5-lh', 'dlpfc_5-rh', \n",
    "          'dlpfc_6-lh', 'dlpfc_6-rh', 'pcc-lh', 'pcc-rh', 'racc-lh', 'racc-rh']\n",
    "# labels = ['FCZ']\n",
    "\n",
    "space = 'source'\n",
    "model_name = 'revised'\n",
    "\n",
    "#~~~~~~~~~~~~~~~~~~~~~~~~~~~~~~~~~~~~~~~~~~~~~~~~~~~#\n",
    "### Main loop.\n",
    "#~~~~~~~~~~~~~~~~~~~~~~~~~~~~~~~~~~~~~~~~~~~~~~~~~~~#\n",
    "root_dir = '/space/sophia/2/users/EMOTE-DBS/afMSIT/%s' %space\n",
    "img_dir = '/space/sophia/2/users/EMOTE-DBS/afMSIT/plots/%s' %space\n",
    "info = read_csv(os.path.join(root_dir, 'afMSIT_%s_info.csv' %space))\n",
    "\n",
    "for label in labels:\n",
    "\n",
    "    for freq in [15]:\n",
    "\n",
    "        ## Intialize figure.\n",
    "        fig = plt.figure(figsize=(16,8))\n",
    "        axes = []\n",
    "        \n",
    "        ## Initialize labels.\n",
    "        if space == 'sensor': ylabel = 'Voltage (uV)'\n",
    "        elif space == 'source': ylabel = 'dSPM'\n",
    "        title = '%s ERP' %(label.replace('_',' ').upper())\n",
    "        out_path = os.path.join(img_dir, 'timedomain', '%s_%s.png' %(model_name,title.replace(' ','_').lower()))\n",
    "            \n",
    "        for n, analysis in enumerate(['stim', 'resp']):\n",
    " \n",
    "            #~~~~~~~~~~~~~~~~~~~~~~~~~~~~~~~~~~~~~~~~~~~~~~~~~~~#\n",
    "            ### Load data.\n",
    "            #~~~~~~~~~~~~~~~~~~~~~~~~~~~~~~~~~~~~~~~~~~~~~~~~~~~#\n",
    "\n",
    "            ## Load source data.\n",
    "            npz = np.load(os.path.join(root_dir, 'afMSIT_%s_%s_%s_%s.npz' %(space,analysis,label,freq)))\n",
    "            data = npz['data']\n",
    "            times = npz['times']\n",
    "            \n",
    "            ## Load cluster results.\n",
    "            f = os.path.join(root_dir, 'results', '%s_%s_timedomain_results.csv' %(model_name, analysis))\n",
    "            clusters = read_csv(f)\n",
    "            \n",
    "            #~~~~~~~~~~~~~~~~~~~~~~~~~~~~~~~~~~~~~~~~~~~~~~~~~~~#\n",
    "            ### Plot DBS Difference.\n",
    "            #~~~~~~~~~~~~~~~~~~~~~~~~~~~~~~~~~~~~~~~~~~~~~~~~~~~#\n",
    "            \n",
    "            ax = plt.subplot2grid((2,2),(n,0))\n",
    "            for m, color, legend in zip([0,1],['#0571b0','#ca0020'],['DBSoff','DBSon']):\n",
    "                \n",
    "                ix, = np.where(info.DBS==m)\n",
    "                mu = data[ix].mean(axis=0)\n",
    "                se = data[ix].std(axis=0) / np.sqrt(len(ix))\n",
    "                ax.plot(times, mu, linewidth=2, color=color, label=legend)\n",
    "                ax.fill_between(times, mu-se, mu+se, color=color, alpha=0.2)\n",
    "        \n",
    "            ## Plot significant clusters.\n",
    "            for ix in np.where((clusters.Label==label)&(clusters.Freq==freq)&\n",
    "                               (clusters.Contrast=='DBS')&(clusters.FDR<0.05))[0]:\n",
    "                y1, y2 = ax.get_ylim()\n",
    "                tmin, tmax = clusters.loc[ix,'Tmin'], clusters.loc[ix,'Tmax']\n",
    "                ax.fill_between(np.linspace(tmin,tmax,1e3), y1, y2, color='k', alpha=0.2) \n",
    "                ax.set_ylim(y1,y2)\n",
    "                \n",
    "            axes.append(ax)\n",
    "                \n",
    "            #~~~~~~~~~~~~~~~~~~~~~~~~~~~~~~~~~~~~~~~~~~~~~~~~~~~#\n",
    "            ### Plot Interference Difference.\n",
    "            #~~~~~~~~~~~~~~~~~~~~~~~~~~~~~~~~~~~~~~~~~~~~~~~~~~~#\n",
    "\n",
    "            ax = plt.subplot2grid((2,2),(n,1))\n",
    "            for m, color, legend in zip([0,1],['#7b3294','#008837'],['Neu','Int']):\n",
    "                \n",
    "                ix, = np.where(info.Interference==m)\n",
    "                mu = data[ix].mean(axis=0)\n",
    "                se = data[ix].std(axis=0) / np.sqrt(len(ix))\n",
    "                ax.plot(times, mu, linewidth=2, color=color, label=legend)\n",
    "                ax.fill_between(times, mu-se, mu+se, color=color, alpha=0.2)\n",
    "                \n",
    "            ## Plot significant clusters.\n",
    "            for ix in np.where((clusters.Label==label)&(clusters.Freq==freq)&\n",
    "                               (clusters.Contrast=='Interference')&(clusters.FDR<0.05))[0]:\n",
    "                y1, y2 = ax.get_ylim()\n",
    "                tmin, tmax = clusters.loc[ix,'Tmin'], clusters.loc[ix,'Tmax']\n",
    "                ax.fill_between(np.linspace(tmin,tmax,1e3), y1, y2, color='k', alpha=0.2)    \n",
    "                ax.set_ylim(y1,y2)\n",
    "            \n",
    "            axes.append(ax)\n",
    "            \n",
    "        #~~~~~~~~~~~~~~~~~~~~~~~~~~~~~~~~~~~~~~~~~~~~~~~~~~~#\n",
    "        ### Add Flourishes\n",
    "        #~~~~~~~~~~~~~~~~~~~~~~~~~~~~~~~~~~~~~~~~~~~~~~~~~~~#\n",
    "\n",
    "        for i, ax in enumerate(axes):\n",
    "\n",
    "            ax.legend(loc=2, fontsize=18, markerscale=2, frameon=False, borderpad=0, handletextpad=0.2)\n",
    "            ax.set_xlabel('Time (s)', fontsize=18)\n",
    "            if not i%2: ax.set_ylabel(ylabel, fontsize=20)\n",
    "            ax.tick_params(axis='both', which='major', labelsize=12)\n",
    "            if not i/2: ax.set_title('Stimulus-Locked', fontsize=24)\n",
    "            else: ax.set_title('Response-Locked', fontsize=24)\n",
    "\n",
    "            ## Time-lock specific.\n",
    "            if not i/2:\n",
    "                y1, y2 = ax.get_ylim()\n",
    "                for x,s in zip([0, 0.4, 1.127],['IAPS','MSIT','Resp']): \n",
    "                    ax.text(x+0.02,y1+np.abs(y1*0.05),s,fontsize=16)\n",
    "                    ax.vlines(x,y1,y2,linestyle='--',alpha=0.3)\n",
    "                ax.set_ylim(y1,y2)\n",
    "\n",
    "            else:\n",
    "                y1, y2 = ax.get_ylim()\n",
    "                ax.text(0.02,y1+np.abs(y1*0.05),'Resp',fontsize=16)\n",
    "                ax.vlines(0.0,y1,y2,linestyle='--',alpha=0.3)\n",
    "                ax.set_ylim(y1,y2)\n",
    "\n",
    "        plt.suptitle(title, y=0.99, fontsize=28)\n",
    "        plt.subplots_adjust(left=0.05, right=0.975, hspace=0.35, wspace=0.15)\n",
    "        #plt.show()\n",
    "        plt.savefig(out_path)\n",
    "        plt.close()\n",
    "\n",
    "print 'Done.'"
   ]
  },
  {
   "cell_type": "markdown",
   "metadata": {},
   "source": [
    "### Power Domain"
   ]
  },
  {
   "cell_type": "code",
   "execution_count": null,
   "metadata": {
    "collapsed": true
   },
   "outputs": [],
   "source": [
    "import os\n",
    "import numpy as np\n",
    "import pylab as plt\n",
    "from pandas import read_csv\n",
    "\n",
    "#~~~~~~~~~~~~~~~~~~~~~~~~~~~~~~~~~~~~~~~~~~~~~~~~~~~#\n",
    "### Define parameters.\n",
    "#~~~~~~~~~~~~~~~~~~~~~~~~~~~~~~~~~~~~~~~~~~~~~~~~~~~#\n",
    "\n",
    "## File parameters.\n",
    "labels = ['dacc-lh', 'dacc-rh', 'dmpfc-lh', 'dmpfc-rh', 'dlpfc_1-lh', 'dlpfc_1-rh', 'dlpfc_2-lh', 'dlpfc_2-rh', \n",
    "          'dlpfc_3-lh', 'dlpfc_3-rh', 'dlpfc_4-lh', 'dlpfc_4-rh', 'dlpfc_5-lh', 'dlpfc_5-rh', \n",
    "          'dlpfc_6-lh', 'dlpfc_6-rh', 'pcc-lh', 'pcc-rh', 'racc-lh', 'racc-rh']\n",
    "# labels = ['FCZ']\n",
    "\n",
    "space = 'source'\n",
    "model_name = 'revised'\n",
    "baseline = (-0.5, -0.1)\n",
    "\n",
    "#~~~~~~~~~~~~~~~~~~~~~~~~~~~~~~~~~~~~~~~~~~~~~~~~~~~#\n",
    "### Main loop.\n",
    "#~~~~~~~~~~~~~~~~~~~~~~~~~~~~~~~~~~~~~~~~~~~~~~~~~~~#\n",
    "root_dir = '/space/sophia/2/users/EMOTE-DBS/afMSIT/%s' %space\n",
    "img_dir = '/space/sophia/2/users/EMOTE-DBS/afMSIT/plots/%s' %space\n",
    "info = read_csv(os.path.join(root_dir, 'afMSIT_%s_info.csv' %space))\n",
    "\n",
    "for label in labels:\n",
    "\n",
    "    for freq in ['theta','alpha','beta']:\n",
    "\n",
    "        ## Intialize figure.\n",
    "        fig = plt.figure(figsize=(16,8))\n",
    "        axes = []\n",
    "        \n",
    "        ## Initialize labels.\n",
    "        ylabel = 'Power (dB)'\n",
    "        title = '%s %s Power' %(label.replace('_',' ').upper(), freq.capitalize())\n",
    "        out_path = os.path.join(img_dir, 'frequency', '%s_%s.png' %(model_name,title.replace(' ','_').lower()))\n",
    "            \n",
    "        for n, analysis in enumerate(['stim', 'resp']):\n",
    " \n",
    "            #~~~~~~~~~~~~~~~~~~~~~~~~~~~~~~~~~~~~~~~~~~~~~~~~~~~#\n",
    "            ### Load data.\n",
    "            #~~~~~~~~~~~~~~~~~~~~~~~~~~~~~~~~~~~~~~~~~~~~~~~~~~~#\n",
    "\n",
    "            ## Load source data.\n",
    "            npz = np.load(os.path.join(root_dir, 'afMSIT_%s_%s_%s_%s.npz' %(space,analysis,label,freq)))\n",
    "            data = npz['data']\n",
    "            times = npz['times']\n",
    "            \n",
    "            ## Load cluster results.\n",
    "            f = os.path.join(root_dir, 'results', '%s_%s_frequency_results.csv' %(model_name, analysis))\n",
    "            clusters = read_csv(f)\n",
    "            \n",
    "            #~~~~~~~~~~~~~~~~~~~~~~~~~~~~~~~~~~~~~~~~~~~~~~~~~~~#\n",
    "            ### Plot DBS Difference.\n",
    "            #~~~~~~~~~~~~~~~~~~~~~~~~~~~~~~~~~~~~~~~~~~~~~~~~~~~#\n",
    "            \n",
    "            ax = plt.subplot2grid((2,2),(n,0))\n",
    "            for m, color, legend in zip([0,1],['#0571b0','#ca0020'],['DBSoff','DBSon']):\n",
    "                \n",
    "                ix, = np.where(info.DBS==m)\n",
    "                mu = data[ix].mean(axis=0)\n",
    "                if analysis == 'stim': mu -= mu[(times >= baseline[0])&(times <= baseline[1])].mean()\n",
    "                se = data[ix].std(axis=0) / np.sqrt(len(ix))\n",
    "                ax.plot(times, mu, linewidth=2, color=color, label=legend)\n",
    "                ax.fill_between(times, mu-se, mu+se, color=color, alpha=0.2)\n",
    "        \n",
    "            ## Plot significant clusters.\n",
    "            for ix in np.where((clusters.Label==label)&(clusters.Freq==freq)&\n",
    "                               (clusters.Contrast=='DBS')&(clusters.FDR<0.05))[0]:\n",
    "                y1, y2 = ax.get_ylim()\n",
    "                tmin, tmax = clusters.loc[ix,'Tmin'], clusters.loc[ix,'Tmax']\n",
    "                ax.fill_between(np.linspace(tmin,tmax,1e3), y1, y2, color='k', alpha=0.2) \n",
    "                ax.set_ylim(y1,y2)\n",
    "                \n",
    "            axes.append(ax)\n",
    "                \n",
    "            #~~~~~~~~~~~~~~~~~~~~~~~~~~~~~~~~~~~~~~~~~~~~~~~~~~~#\n",
    "            ### Plot Interference Difference.\n",
    "            #~~~~~~~~~~~~~~~~~~~~~~~~~~~~~~~~~~~~~~~~~~~~~~~~~~~#\n",
    "\n",
    "            ax = plt.subplot2grid((2,2),(n,1))\n",
    "            for m, color, legend in zip([0,1],['#7b3294','#008837'],['Neu','Int']):\n",
    "                \n",
    "                ix, = np.where(info.Interference==m)\n",
    "                mu = data[ix].mean(axis=0)\n",
    "                if analysis == 'stim': mu -= mu[(times >= baseline[0])&(times <= baseline[1])].mean()\n",
    "                se = data[ix].std(axis=0) / np.sqrt(len(ix))\n",
    "                ax.plot(times, mu, linewidth=2, color=color, label=legend)\n",
    "                ax.fill_between(times, mu-se, mu+se, color=color, alpha=0.2)\n",
    "                \n",
    "            ## Plot significant clusters.\n",
    "            for ix in np.where((clusters.Label==label)&(clusters.Freq==freq)&\n",
    "                               (clusters.Contrast=='Interference')&(clusters.FDR<0.05))[0]:\n",
    "                y1, y2 = ax.get_ylim()\n",
    "                tmin, tmax = clusters.loc[ix,'Tmin'], clusters.loc[ix,'Tmax']\n",
    "                ax.fill_between(np.linspace(tmin,tmax,1e3), y1, y2, color='k', alpha=0.2)    \n",
    "                ax.set_ylim(y1,y2)\n",
    "            \n",
    "            axes.append(ax)\n",
    "            \n",
    "        #~~~~~~~~~~~~~~~~~~~~~~~~~~~~~~~~~~~~~~~~~~~~~~~~~~~#\n",
    "        ### Add Flourishes\n",
    "        #~~~~~~~~~~~~~~~~~~~~~~~~~~~~~~~~~~~~~~~~~~~~~~~~~~~#\n",
    "\n",
    "        for i, ax in enumerate(axes):\n",
    "\n",
    "            ax.legend(loc=2, fontsize=18, markerscale=2, frameon=False, borderpad=0, handletextpad=0.2)\n",
    "            ax.set_xlabel('Time (s)', fontsize=18)\n",
    "            if not i%2: ax.set_ylabel(ylabel, fontsize=20)\n",
    "            ax.tick_params(axis='both', which='major', labelsize=12)\n",
    "            if not i/2: ax.set_title('Stimulus-Locked', fontsize=24)\n",
    "            else: ax.set_title('Response-Locked', fontsize=24)\n",
    "\n",
    "            ## Time-lock specific.\n",
    "            if not i/2:\n",
    "                y1, y2 = ax.get_ylim()\n",
    "                for x,s in zip([0, 0.4, 1.127],['IAPS','MSIT','Resp']): \n",
    "                    ax.text(x+0.02,y1+np.abs(y1*0.05),s,fontsize=16)\n",
    "                    ax.vlines(x,y1,y2,linestyle='--',alpha=0.3)\n",
    "                ax.set_ylim(y1,y2)\n",
    "\n",
    "            else:\n",
    "                y1, y2 = ax.get_ylim()\n",
    "                ax.text(0.02,y1+np.abs(y1*0.05),'Resp',fontsize=16)\n",
    "                ax.vlines(0.0,y1,y2,linestyle='--',alpha=0.3)\n",
    "                ax.set_ylim(y1,y2)\n",
    "\n",
    "        plt.suptitle(title, y=0.99, fontsize=28)\n",
    "        plt.subplots_adjust(left=0.05, right=0.975, hspace=0.35, wspace=0.15)\n",
    "        #plt.show()\n",
    "        plt.savefig(out_path)\n",
    "        plt.close()\n",
    "\n",
    "print 'Done.'"
   ]
  },
  {
   "cell_type": "markdown",
   "metadata": {},
   "source": [
    "## Secondary Results\n",
    "### Intertrial Interval Spectra Comparison\n"
   ]
  },
  {
   "cell_type": "code",
   "execution_count": null,
   "metadata": {
    "collapsed": true
   },
   "outputs": [],
   "source": [
    "import os\n",
    "import numpy as np\n",
    "import pylab as plt\n",
    "from cmap_utils import *\n",
    "\n",
    "#~~~~~~~~~~~~~~~~~~~~~~~~~~~~~~~~~~~~~~~~~~~~~~~~~~~#\n",
    "### Load and extract data.\n",
    "#~~~~~~~~~~~~~~~~~~~~~~~~~~~~~~~~~~~~~~~~~~~~~~~~~~~#\n",
    "\n",
    "## Load data.\n",
    "root_dir = '/space/sophia/2/users/EMOTE-DBS/afMSIT/source'\n",
    "npz = np.load( os.path.join(root_dir, 'afMSIT_source_iti_dlpfc_5-lh_spectra.npz') )\n",
    "\n",
    "## Extract data.\n",
    "power = npz['power']\n",
    "times = npz['times']\n",
    "freqs = npz['freqs']\n",
    "dbs = (npz['conds'] > 2).astype(int)\n",
    "\n",
    "## Compute contrasts.\n",
    "dbs_off = np.log10( np.median( power[dbs==0], axis=0 ) ) * 10\n",
    "dbs_on = np.log10( np.median( power[dbs==1], axis=0 ) ) * 10\n",
    "contrast = dbs_on - dbs_off\n",
    "\n",
    "#~~~~~~~~~~~~~~~~~~~~~~~~~~~~~~~~~~~~~~~~~~~~~~~~~~~#\n",
    "### Plot spectrograms.\n",
    "#~~~~~~~~~~~~~~~~~~~~~~~~~~~~~~~~~~~~~~~~~~~~~~~~~~~#\n",
    "\n",
    "fig, axes = plt.subplots(1,3,figsize=(15,5),sharex=True)\n",
    "vmin, vmax = np.floor( np.min([dbs_off, dbs_on]) ), np.ceil( np.max([dbs_off, dbs_on]) )\n",
    "\n",
    "\n",
    "## Plot DBS-off.\n",
    "cmap = center_color_map(dbs_off, 'jet')\n",
    "cbar = axes[0].imshow(dbs_off , aspect='auto', origin='lower', cmap=cmap, vmin=vmin, vmax=vmax)\n",
    "plt.colorbar(cbar, ax=axes[0],  ticks=np.arange(vmin, vmax+0.01, 0.5))\n",
    "axes[0].set_ylabel('Frequency', fontsize=18)\n",
    "\n",
    "## Plot DBS-on.\n",
    "cmap = center_color_map(dbs_on, 'jet')\n",
    "cbar = axes[1].imshow(dbs_on , aspect='auto', origin='lower', cmap=cmap, vmin=vmin, vmax=vmax)\n",
    "plt.colorbar(cbar, ax=axes[1], ticks=np.arange(vmin, vmax+0.01, 0.5))\n",
    "\n",
    "## Plot contrast.\n",
    "cmap = center_color_map(contrast, 'jet')\n",
    "cbar = axes[2].imshow(contrast , aspect='auto', origin='lower', cmap=cmap, vmin=-1, vmax=1)\n",
    "plt.colorbar(cbar, ax=axes[2], ticks=np.arange(-1,1.1,0.5))\n",
    "\n",
    "## Add flourishes.\n",
    "for ax, title in zip(axes, ['DBSoff', 'DBSon', 'On-Off']):\n",
    "    \n",
    "    ax.set_xticks(np.linspace(0, times.shape[0], 6))\n",
    "    ax.set_xticklabels(np.linspace(times.min(), times.max(), 6).round(2))\n",
    "    ax.set_xlabel('Time (s)', fontsize=16)\n",
    "    \n",
    "    ax.set_yticks([0,5,10,15,18,20,22,24])\n",
    "    ax.set_yticklabels(freqs[[0,5,10,15,18,20,22,24]].astype(int))\n",
    "    ax.set_title(title, fontsize=20)\n",
    "    \n",
    "plt.subplots_adjust(left=0.05, right=0.98, top=0.8)\n",
    "plt.suptitle('Intertrial Power Spectra', fontsize=28)\n",
    "plt.show()"
   ]
  },
  {
   "cell_type": "markdown",
   "metadata": {},
   "source": [
    "### Intertrial Interval Power Spectrum Density"
   ]
  },
  {
   "cell_type": "code",
   "execution_count": null,
   "metadata": {
    "collapsed": true
   },
   "outputs": [],
   "source": [
    "import os\n",
    "import numpy as np\n",
    "import pylab as plt\n",
    "from mne import EpochsArray, create_info\n",
    "from mne.time_frequency import psd_multitaper\n",
    "\n",
    "#~~~~~~~~~~~~~~~~~~~~~~~~~~~~~~~~~~~~~~~~~~~~~~~~~~~#\n",
    "### Define parameters.\n",
    "#~~~~~~~~~~~~~~~~~~~~~~~~~~~~~~~~~~~~~~~~~~~~~~~~~~~#\n",
    "\n",
    "## Data parameters.\n",
    "subjects = ['BRTU','CHDR', 'CRDA', 'JADE', 'JASE', 'M5', 'MEWA', 'S2']\n",
    "method = 'dSPM'\n",
    "h_freq = 50\n",
    "roi = 'dlpfc_5-lh'\n",
    "sfreq = 1450\n",
    "\n",
    "#~~~~~~~~~~~~~~~~~~~~~~~~~~~~~~~~~~~~~~~~~~~~~~~~~~~#\n",
    "### Setup.\n",
    "#~~~~~~~~~~~~~~~~~~~~~~~~~~~~~~~~~~~~~~~~~~~~~~~~~~~#\n",
    "root_dir = '/space/sophia/2/users/EMOTE-DBS/afMSIT/source'\n",
    "\n",
    "epochs, conds = [], []\n",
    "for subject in subjects:\n",
    "\n",
    "    ## Load NPZ.\n",
    "    npz = np.load(os.path.join(root_dir, 'stcs', '%s_msit_iti_%s_%s_epochs.npz' %(subject,method,h_freq)))\n",
    "    epochs.append(npz['ltcs'])\n",
    "    conds.append(npz['conds'])\n",
    "\n",
    "## Concatenate.\n",
    "epochs = np.concatenate(epochs, axis=0)\n",
    "conds = np.concatenate(conds, axis=0)\n",
    "times = npz['times']\n",
    "\n",
    "## Make into epochs object.\n",
    "n_trials, n_channels, n_times = epochs.shape\n",
    "\n",
    "## Make info.\n",
    "info = create_info([roi], sfreq, ['eeg'])\n",
    "\n",
    "## Make events.\n",
    "events = np.zeros((n_trials,3), dtype=int)\n",
    "events.T[0] = np.arange(n_trials)\n",
    "events.T[-1] = conds\n",
    "event_id = dict( FN=1, FI=2, NN=3, NI=4 )\n",
    "\n",
    "epochs = EpochsArray(epochs, info, events, tmin=-1.25, event_id=event_id, verbose=False)\n",
    "\n",
    "## Compute PSD.\n",
    "psd_dbsoff, freqs = psd_multitaper(epochs[['FI','FN']], fmin=0, fmax=50, n_jobs=3, verbose=False)\n",
    "psd_dbson,  freqs = psd_multitaper(epochs[['NI','NN']], fmin=0, fmax=50, n_jobs=3, verbose=False)"
   ]
  },
  {
   "cell_type": "code",
   "execution_count": null,
   "metadata": {
    "collapsed": true
   },
   "outputs": [],
   "source": [
    "fig, ax = plt.subplots(1,1,figsize=(8,8))\n",
    "\n",
    "for arr, label, color in zip([psd_dbsoff,psd_dbson], ['DBSoff','DBSon'], ['#0571b0','#ca0020']):\n",
    "    \n",
    "    \n",
    "    mu = arr.squeeze().mean(axis=0)\n",
    "    mask = (freqs <= 30)\n",
    "    auc = mu[mask].sum()\n",
    "    \n",
    "    arr2 = arr / auc\n",
    "    \n",
    "    mu = arr2.squeeze().mean(axis=0)\n",
    "    sd = arr2.squeeze().std(axis=0)\n",
    "    se = sd / np.sqrt(arr2.shape[0])\n",
    "    \n",
    "    ax.plot(freqs, mu, linewidth=3, label=label, color=color)\n",
    "    ax.fill_between(freqs, mu-se, mu+se, color=color, alpha=0.2)\n",
    "    \n",
    "ax.legend(loc=1)\n",
    "\n",
    "plt.tight_layout()\n",
    "plt.show()"
   ]
  },
  {
   "cell_type": "code",
   "execution_count": null,
   "metadata": {
    "collapsed": true
   },
   "outputs": [],
   "source": [
    "#~~~~~~~~~~~~~~~~~~~~~~~~~~~~~~~~~~~~~~~~~~~~~~~~~~~#\n",
    "### Plot spectrograms.\n",
    "#~~~~~~~~~~~~~~~~~~~~~~~~~~~~~~~~~~~~~~~~~~~~~~~~~~~#\n",
    "\n",
    "fig, axes = plt.subplots(1,3,figsize=(15,5),sharex=True)\n",
    "vmin, vmax = np.floor( np.min([dbs_off, dbs_on]) ), np.ceil( np.max([dbs_off, dbs_on]) )\n",
    "\n",
    "\n",
    "## Plot DBS-off.\n",
    "cmap = center_color_map(dbs_off, 'jet')\n",
    "cbar = axes[0].imshow(dbs_off , aspect='auto', origin='lower', cmap=cmap, vmin=vmin, vmax=vmax)\n",
    "plt.colorbar(cbar, ax=axes[0],  ticks=np.arange(vmin, vmax+0.01, 0.5))\n",
    "axes[0].set_ylabel('Frequency', fontsize=18)\n",
    "\n",
    "## Plot DBS-on.\n",
    "cmap = center_color_map(dbs_on, 'jet')\n",
    "cbar = axes[1].imshow(dbs_on , aspect='auto', origin='lower', cmap=cmap, vmin=vmin, vmax=vmax)\n",
    "plt.colorbar(cbar, ax=axes[1], ticks=np.arange(vmin, vmax+0.01, 0.5))\n",
    "\n",
    "## Plot contrast.\n",
    "cmap = center_color_map(contrast, 'jet')\n",
    "cbar = axes[2].imshow(contrast , aspect='auto', origin='lower', cmap=cmap, vmin=-1, vmax=1)\n",
    "plt.colorbar(cbar, ax=axes[2], ticks=np.arange(-1,1.1,0.5))\n",
    "\n",
    "## Add flourishes.\n",
    "for ax, title in zip(axes, ['DBSoff', 'DBSon', 'On-Off']):\n",
    "    \n",
    "    ax.set_xticks(np.linspace(0, times.shape[0], 6))\n",
    "    ax.set_xticklabels(np.linspace(times.min(), times.max(), 6).round(2))\n",
    "    ax.set_xlabel('Time (s)', fontsize=16)\n",
    "    \n",
    "    ax.set_yticks([0,5,10,15,18,20,22,24])\n",
    "    ax.set_yticklabels(freqs[[0,5,10,15,18,20,22,24]].astype(int))\n",
    "    ax.set_title(title, fontsize=20)\n",
    "    \n",
    "plt.subplots_adjust(left=0.05, right=0.98, top=0.8)\n",
    "plt.suptitle('Intertrial Power Spectra', fontsize=28)\n",
    "plt.show()\n",
    "\n",
    "#~~~~~~~~~~~~~~~~~~~~~~~~~~~~~~~~~~~~~~~~~~~~~~~~~~~#\n",
    "### Plot power spectrum densities.\n",
    "#~~~~~~~~~~~~~~~~~~~~~~~~~~~~~~~~~~~~~~~~~~~~~~~~~~~#\n",
    "\n",
    "fig, ax = plt.subplots(1,1,figsize=(8,8))\n",
    "\n",
    "ax.plot(freqs, )"
   ]
  },
  {
   "cell_type": "markdown",
   "metadata": {},
   "source": [
    "## Anatomical Specificity"
   ]
  },
  {
   "cell_type": "code",
   "execution_count": null,
   "metadata": {
    "collapsed": false
   },
   "outputs": [],
   "source": [
    "import os\n",
    "from surfer import Brain\n",
    "%matplotlib qt4\n",
    "\n",
    "## Initialize brain.\n",
    "brain = Brain('fscopy', 'lh', 'pial', subjects_dir='/space/sophia/2/users/EMOTE-DBS/freesurfs')\n",
    "\n",
    "## Visualize labels.\n",
    "label_dir = '/space/sophia/2/users/EMOTE-DBS/freesurfs/fscopy/label/april2016'\n",
    "for label, color in zip(['dlpfc_4-lh', 'dlpfc_5-lh', 'dlpfc_6-lh'],['#377eb8', '#4daf4a', '#e41a1c']):\n",
    "    brain.add_label('%s/%s.label' %(label_dir,label), color=color, borders=3)\n",
    "brain.add_label('%s/dlpfc_1-lh.label' %(label_dir), color=color, borders=3)"
   ]
  },
  {
   "cell_type": "markdown",
   "metadata": {},
   "source": [
    "# Manuscript Figures"
   ]
  },
  {
   "cell_type": "markdown",
   "metadata": {},
   "source": [
    "## Figure 1\n",
    "### Behavior Plot (4-panel)"
   ]
  },
  {
   "cell_type": "code",
   "execution_count": 42,
   "metadata": {
    "collapsed": false
   },
   "outputs": [
    {
     "name": "stdout",
     "output_type": "stream",
     "text": [
      "Done.\n"
     ]
    }
   ],
   "source": [
    "import os\n",
    "import numpy as np\n",
    "import pylab as plt\n",
    "import seaborn as sns\n",
    "from pandas import read_csv\n",
    "sns.set(style=\"white\", font_scale=2.5)\n",
    "np.random.seed(47404)\n",
    "\n",
    "#~~~~~~~~~~~~~~~~~~~~~~~~~~~~~~~~~~~~~~~~#\n",
    "### Load data. Initialize Plots.\n",
    "#~~~~~~~~~~~~~~~~~~~~~~~~~~~~~~~~~~~~~~~~#\n",
    "\n",
    "fig, axes = plt.subplots(2,2,figsize=(14,12))\n",
    "df = read_csv('behavior/EMOTE_behav_data.csv')\n",
    "stats = read_csv('behavior/EMOTE_matlab_outputs.csv')\n",
    "\n",
    "#~~~~~~~~~~~~~~~~~~~~~~~~~~~~~~~~~~~~~~~~#\n",
    "### DBS effect.\n",
    "#~~~~~~~~~~~~~~~~~~~~~~~~~~~~~~~~~~~~~~~~#\n",
    "\n",
    "## Prepare data.\n",
    "df.DBS = np.where(df.DBS,'ON','OFF')\n",
    "df = df.sort_values('DBS')\n",
    "\n",
    "## Plot barplot.\n",
    "sns.barplot('DBS', 'origResponseTimes', palette=sns.color_palette(['#0571b0','#ca0020']), \n",
    "            data=df, ci=95, ax=axes[0,0])\n",
    "\n",
    "#~~~~~~~~~~~~~~~~~~~~~~~~~~~~~~~~~~~~~~~~#\n",
    "### Interference effect.\n",
    "#~~~~~~~~~~~~~~~~~~~~~~~~~~~~~~~~~~~~~~~~#\n",
    "\n",
    "## Plot barplot.\n",
    "df.interference = np.where(df.interference, 'Interference', 'Control')\n",
    "sns.barplot('interference', 'origResponseTimes', palette=sns.color_palette(['#7b3294','#008837']), \n",
    "            data=df, ci=95, ax=axes[0,1])\n",
    "\n",
    "#~~~~~~~~~~~~~~~~~~~~~~~~~~~~~~~~~~~~~~~~#\n",
    "### Valence effect.\n",
    "#~~~~~~~~~~~~~~~~~~~~~~~~~~~~~~~~~~~~~~~~#\n",
    "\n",
    "bins = 10\n",
    "df.valence = np.digitize(df.valence, np.linspace(0,1.01,bins))\n",
    "# sns.regplot('valence', 'origResponseTimes', df, ax=axes[1,0], color='#02818a', \n",
    "#             x_bins=np.unique(df.valence), x_estimator=np.mean)\n",
    "sns.regplot('valence', 'origResponseTimes', df, ax=axes[1,0], color='#02818a', \n",
    "            scatter=True, x_jitter=.1, scatter_kws=dict(facecolors='none'))\n",
    "axes[1,0].scatter(df.valence + np.random.uniform(-0.1,0.1,df.valence.shape), df.origResponseTimes, \n",
    "                  s=10, marker='o', facecolors='none', edgecolors='#02818a')\n",
    "\n",
    "mu = df.groupby('valence').origResponseTimes.mean()\n",
    "axes[1,0].scatter(mu.index, mu, s=75, marker='s', color='k', alpha=1)\n",
    "\n",
    "#~~~~~~~~~~~~~~~~~~~~~~~~~~~~~~~~~~~~~~~~#\n",
    "### Arousal effect.\n",
    "#~~~~~~~~~~~~~~~~~~~~~~~~~~~~~~~~~~~~~~~~#\n",
    "\n",
    "df.arousal = np.digitize(df.arousal, np.linspace(0,1.01,bins))\n",
    "# sns.regplot('arousal', 'origResponseTimes', df, ax=axes[1,1], color='#e6550d',\n",
    "#             x_bins=np.unique(df.arousal), x_estimator=np.mean)\n",
    "sns.regplot('arousal', 'origResponseTimes', df, ax=axes[1,1], color='#e6550d',\n",
    "            scatter=True, x_jitter=.1, scatter_kws=dict(facecolors='none'))\n",
    "axes[1,1].scatter(df.arousal + np.random.uniform(-0.1,0.1,df.arousal.shape), df.origResponseTimes, \n",
    "                  s=10, marker='o', facecolors='none', edgecolors='#e6550d')\n",
    "\n",
    "mu = df.groupby('arousal').origResponseTimes.mean()\n",
    "axes[1,1].scatter(mu.index, mu, s=75, marker='s', color='k', alpha=1)\n",
    "\n",
    "#~~~~~~~~~~~~~~~~~~~~~~~~~~~~~~~~~~~~~~~~#\n",
    "### Flourishes.\n",
    "#~~~~~~~~~~~~~~~~~~~~~~~~~~~~~~~~~~~~~~~~#\n",
    "\n",
    "titles = [['DBS','Conflict'],['Valence','Arousal']]\n",
    "\n",
    "for n in range(2):\n",
    "    for m in range(2):\n",
    "        if not n: \n",
    "            axes[n,m].set_ylim(0,1)\n",
    "            axes[n,m].hlines(0.875+m*0.075,0.0,1.0)\n",
    "            axes[n,m].vlines([0,1], 0.85+m*0.075, 0.875+m*0.075)\n",
    "        \n",
    "            ## Add significance statistics.\n",
    "            beta, pval = stats.loc[stats.indvar==titles[n][m], ['beta','pval']].as_matrix().squeeze()\n",
    "            if pval < 1e-4: text = r'$\\beta = %0.3f, p < 0.0001$' %beta\n",
    "            else: text = r'$\\beta = %0.3f, p = %0.3f$' %(beta,pval)\n",
    "            axes[n,m].text(0.5,0.9+m*0.075, text, ha='center',fontsize=22)\n",
    "            \n",
    "        else: \n",
    "            axes[n,m].set_ylim(0.4,1.5)\n",
    "            axes[n,m].set_xticks(np.arange(1,10,2))\n",
    "            \n",
    "            ## Add significance statistics.\n",
    "            beta, pval = stats.loc[stats.indvar==titles[n][m], ['beta','pval']].as_matrix().squeeze()\n",
    "            if pval < 1e-4: text = r'$\\beta = %0.3f, p < 0.0001$' %beta\n",
    "            else: text = r'$\\beta = %0.3f, p = %0.3f$' %(beta,pval)\n",
    "            axes[n,m].text(5,1.55, text, ha='center',fontsize=22)\n",
    "            \n",
    "        if not m: \n",
    "            axes[n,m].set_ylabel('Response Time (s)', fontsize=20, weight='bold')\n",
    "        else:\n",
    "            axes[n,m].set_ylabel('')\n",
    "            \n",
    "        axes[n,m].set_xlabel(titles[n][m], fontsize=28, weight='bold')\n",
    "        axes[n,m].spines['right'].set_visible(False)\n",
    "        axes[n,m].spines['top'].set_visible(False)\n",
    "        \n",
    "plt.subplots_adjust(top=0.97, bottom=0.08, left=0.08, right=0.98, hspace=0.35, wspace=0.32)\n",
    "plt.savefig('plots/manuscript/fig1/behavior_barplot.png')\n",
    "plt.savefig('plots/manuscript/fig1/behavior_barplot.svg')\n",
    "plt.close()\n",
    "print 'Done.'"
   ]
  },
  {
   "cell_type": "markdown",
   "metadata": {},
   "source": [
    "### MSIT Overlay"
   ]
  },
  {
   "cell_type": "code",
   "execution_count": null,
   "metadata": {
    "collapsed": false
   },
   "outputs": [],
   "source": [
    "import os\n",
    "from surfer import Brain\n",
    "%matplotlib qt4\n",
    "\n",
    "fs_dir = '/autofs/space/sophia_002/users/EMOTE-DBS/freesurfs'\n",
    "subj_dir = os.environ[\"SUBJECTS_DIR\"]\n",
    "\n",
    "#~~~~~~~~~~~~~~~~~~~~~~~~~~~~~~~~~~~~~~~~~~~#\n",
    "### Define parameters\n",
    "#~~~~~~~~~~~~~~~~~~~~~~~~~~~~~~~~~~~~~~~~~~~#\n",
    "\n",
    "## Surface parameters.\n",
    "subject = \"fscopy\"\n",
    "surf = \"inflated\"\n",
    "hemi = 'lh'\n",
    "\n",
    "## I/O parameters.\n",
    "overlay = os.path.join(fs_dir, subject, 'label', 'april2016', 'darpa_msit_overlay-lh.mgz')\n",
    "color = '#AFFF94'\n",
    "\n",
    "#~~~~~~~~~~~~~~~~~~~~~~~~~~~~~~~~~~~~~~~~~~~#\n",
    "### Make Figure.\n",
    "#~~~~~~~~~~~~~~~~~~~~~~~~~~~~~~~~~~~~~~~~~~~#\n",
    "\n",
    "labels = ['dacc-lh', 'dmpfc-lh', 'dlpfc_1-lh', 'dlpfc_2-lh', 'dlpfc_3-lh', \n",
    "          'dlpfc_4-lh', 'dlpfc_5-lh', 'dlpfc_6-lh', 'pcc-lh', 'racc-lh']\n",
    "\n",
    "brain = Brain(subject, hemi, surf, background='white')\n",
    "for label in labels:\n",
    "    label = os.path.join(fs_dir, subject, 'label', 'april2016', '%s.label' %label)\n",
    "    brain.add_label(label, color=color, alpha=1, borders=3)\n",
    "brain.add_overlay(overlay, min=1.301, max=5, sign='pos', name='msit')\n",
    "brain.overlays['msit'].pos_bar.visible = False\n",
    "\n",
    "## Lateral view.\n",
    "brain.show_view(dict(azimuth=150, roll=90), distance=350)\n",
    "brain.save_image('plots/manuscript/fig1/msit_overlay_lateral.png')\n",
    "\n",
    "## Medial view.\n",
    "brain.show_view('medial', distance=425)\n",
    "brain.save_image('plots/manuscript/fig1/msit_overlay_medial.png')"
   ]
  },
  {
   "cell_type": "markdown",
   "metadata": {},
   "source": [
    "## Figure 2"
   ]
  },
  {
   "cell_type": "markdown",
   "metadata": {},
   "source": [
    "### Grand Average Topoplots (Time-Domain)"
   ]
  },
  {
   "cell_type": "code",
   "execution_count": 79,
   "metadata": {
    "collapsed": false
   },
   "outputs": [
    {
     "name": "stdout",
     "output_type": "stream",
     "text": [
      "Multiple deprecated filter parameters were used:\n",
      "phase in 0.13 is \"zero-double\" but will change to \"zero\" in 0.14\n",
      "fir_window in 0.13 is \"hann\" but will change to \"hamming\" in 0.14\n",
      "upper transition bandwidth in 0.13 is 0.5 Hz but will change to \"auto\" in 0.14\n"
     ]
    },
    {
     "name": "stderr",
     "output_type": "stream",
     "text": [
      "<ipython-input-79-7da26757047c>:42: DeprecationWarning: Multiple deprecated filter parameters were used:\n",
      "phase in 0.13 is \"zero-double\" but will change to \"zero\" in 0.14\n",
      "fir_window in 0.13 is \"hann\" but will change to \"hamming\" in 0.14\n",
      "upper transition bandwidth in 0.13 is 0.5 Hz but will change to \"auto\" in 0.14\n",
      "  data = low_pass_filter(data, epochs.info['sfreq'], 15., filter_length='2s', n_jobs=3,)\n"
     ]
    },
    {
     "name": "stdout",
     "output_type": "stream",
     "text": [
      "Attenuation at stop frequency 15.5Hz is only 19.4dB. Increase filter_length for higher attenuation.\n"
     ]
    },
    {
     "name": "stderr",
     "output_type": "stream",
     "text": [
      "<ipython-input-79-7da26757047c>:42: RuntimeWarning: Attenuation at stop frequency 15.5Hz is only 19.4dB. Increase filter_length for higher attenuation.\n",
      "  data = low_pass_filter(data, epochs.info['sfreq'], 15., filter_length='2s', n_jobs=3,)\n"
     ]
    },
    {
     "name": "stdout",
     "output_type": "stream",
     "text": [
      "Projection vector \"EOG-eeg--0.200-0.200-PCA-01\" has magnitude 0.55 (should be unity), applying projector with 43/55 of the original channels available may be dangerous, consider recomputing and adding projection vectors for channels that are eventually used. If this is intentional, consider using info.normalize_proj()\n",
      "Projection vector \"Average EEG reference\" has magnitude 0.12 (should be unity), applying projector with 43/55 of the original channels available may be dangerous, consider recomputing and adding projection vectors for channels that are eventually used. If this is intentional, consider using info.normalize_proj()\n"
     ]
    },
    {
     "name": "stderr",
     "output_type": "stream",
     "text": [
      "<ipython-input-79-7da26757047c>:43: RuntimeWarning: Projection vector \"EOG-eeg--0.200-0.200-PCA-01\" has magnitude 0.55 (should be unity), applying projector with 43/55 of the original channels available may be dangerous, consider recomputing and adding projection vectors for channels that are eventually used. If this is intentional, consider using info.normalize_proj()\n",
      "  epochs = EpochsArray(data, epochs.info, epochs.events, epochs.tmin, epochs.event_id, proj=False)\n",
      "<ipython-input-79-7da26757047c>:43: RuntimeWarning: Projection vector \"Average EEG reference\" has magnitude 0.12 (should be unity), applying projector with 43/55 of the original channels available may be dangerous, consider recomputing and adding projection vectors for channels that are eventually used. If this is intentional, consider using info.normalize_proj()\n",
      "  epochs = EpochsArray(data, epochs.info, epochs.events, epochs.tmin, epochs.event_id, proj=False)\n"
     ]
    },
    {
     "name": "stdout",
     "output_type": "stream",
     "text": [
      "Multiple deprecated filter parameters were used:\n",
      "phase in 0.13 is \"zero-double\" but will change to \"zero\" in 0.14\n",
      "fir_window in 0.13 is \"hann\" but will change to \"hamming\" in 0.14\n",
      "upper transition bandwidth in 0.13 is 0.5 Hz but will change to \"auto\" in 0.14\n"
     ]
    },
    {
     "name": "stderr",
     "output_type": "stream",
     "text": [
      "<ipython-input-79-7da26757047c>:42: DeprecationWarning: Multiple deprecated filter parameters were used:\n",
      "phase in 0.13 is \"zero-double\" but will change to \"zero\" in 0.14\n",
      "fir_window in 0.13 is \"hann\" but will change to \"hamming\" in 0.14\n",
      "upper transition bandwidth in 0.13 is 0.5 Hz but will change to \"auto\" in 0.14\n",
      "  data = low_pass_filter(data, epochs.info['sfreq'], 15., filter_length='2s', n_jobs=3,)\n"
     ]
    },
    {
     "name": "stdout",
     "output_type": "stream",
     "text": [
      "Attenuation at stop frequency 15.5Hz is only 19.4dB. Increase filter_length for higher attenuation.\n"
     ]
    },
    {
     "name": "stderr",
     "output_type": "stream",
     "text": [
      "<ipython-input-79-7da26757047c>:42: RuntimeWarning: Attenuation at stop frequency 15.5Hz is only 19.4dB. Increase filter_length for higher attenuation.\n",
      "  data = low_pass_filter(data, epochs.info['sfreq'], 15., filter_length='2s', n_jobs=3,)\n"
     ]
    },
    {
     "name": "stdout",
     "output_type": "stream",
     "text": [
      "Projection vector \"EOG-eeg--0.200-0.200-PCA-01\" has magnitude 0.61 (should be unity), applying projector with 46/58 of the original channels available may be dangerous, consider recomputing and adding projection vectors for channels that are eventually used. If this is intentional, consider using info.normalize_proj()\n",
      "Projection vector \"ECG-eeg--0.200-0.400-PCA-01\" has magnitude 0.93 (should be unity), applying projector with 46/58 of the original channels available may be dangerous, consider recomputing and adding projection vectors for channels that are eventually used. If this is intentional, consider using info.normalize_proj()\n",
      "Projection vector \"Average EEG reference\" has magnitude 0.12 (should be unity), applying projector with 46/58 of the original channels available may be dangerous, consider recomputing and adding projection vectors for channels that are eventually used. If this is intentional, consider using info.normalize_proj()\n"
     ]
    },
    {
     "name": "stderr",
     "output_type": "stream",
     "text": [
      "<ipython-input-79-7da26757047c>:43: RuntimeWarning: Projection vector \"EOG-eeg--0.200-0.200-PCA-01\" has magnitude 0.61 (should be unity), applying projector with 46/58 of the original channels available may be dangerous, consider recomputing and adding projection vectors for channels that are eventually used. If this is intentional, consider using info.normalize_proj()\n",
      "  epochs = EpochsArray(data, epochs.info, epochs.events, epochs.tmin, epochs.event_id, proj=False)\n",
      "<ipython-input-79-7da26757047c>:43: RuntimeWarning: Projection vector \"ECG-eeg--0.200-0.400-PCA-01\" has magnitude 0.93 (should be unity), applying projector with 46/58 of the original channels available may be dangerous, consider recomputing and adding projection vectors for channels that are eventually used. If this is intentional, consider using info.normalize_proj()\n",
      "  epochs = EpochsArray(data, epochs.info, epochs.events, epochs.tmin, epochs.event_id, proj=False)\n",
      "<ipython-input-79-7da26757047c>:43: RuntimeWarning: Projection vector \"Average EEG reference\" has magnitude 0.12 (should be unity), applying projector with 46/58 of the original channels available may be dangerous, consider recomputing and adding projection vectors for channels that are eventually used. If this is intentional, consider using info.normalize_proj()\n",
      "  epochs = EpochsArray(data, epochs.info, epochs.events, epochs.tmin, epochs.event_id, proj=False)\n"
     ]
    },
    {
     "name": "stdout",
     "output_type": "stream",
     "text": [
      "Multiple deprecated filter parameters were used:\n",
      "phase in 0.13 is \"zero-double\" but will change to \"zero\" in 0.14\n",
      "fir_window in 0.13 is \"hann\" but will change to \"hamming\" in 0.14\n",
      "upper transition bandwidth in 0.13 is 0.5 Hz but will change to \"auto\" in 0.14\n"
     ]
    },
    {
     "name": "stderr",
     "output_type": "stream",
     "text": [
      "<ipython-input-79-7da26757047c>:42: DeprecationWarning: Multiple deprecated filter parameters were used:\n",
      "phase in 0.13 is \"zero-double\" but will change to \"zero\" in 0.14\n",
      "fir_window in 0.13 is \"hann\" but will change to \"hamming\" in 0.14\n",
      "upper transition bandwidth in 0.13 is 0.5 Hz but will change to \"auto\" in 0.14\n",
      "  data = low_pass_filter(data, epochs.info['sfreq'], 15., filter_length='2s', n_jobs=3,)\n"
     ]
    },
    {
     "name": "stdout",
     "output_type": "stream",
     "text": [
      "Attenuation at stop frequency 15.5Hz is only 19.4dB. Increase filter_length for higher attenuation.\n"
     ]
    },
    {
     "name": "stderr",
     "output_type": "stream",
     "text": [
      "<ipython-input-79-7da26757047c>:42: RuntimeWarning: Attenuation at stop frequency 15.5Hz is only 19.4dB. Increase filter_length for higher attenuation.\n",
      "  data = low_pass_filter(data, epochs.info['sfreq'], 15., filter_length='2s', n_jobs=3,)\n"
     ]
    },
    {
     "name": "stdout",
     "output_type": "stream",
     "text": [
      "Projection vector \"EOG-eeg--0.200-0.200-PCA-01\" has magnitude 0.59 (should be unity), applying projector with 46/58 of the original channels available may be dangerous, consider recomputing and adding projection vectors for channels that are eventually used. If this is intentional, consider using info.normalize_proj()\n",
      "Projection vector \"EOG-eeg--0.200-0.200-PCA-02\" has magnitude 0.79 (should be unity), applying projector with 46/58 of the original channels available may be dangerous, consider recomputing and adding projection vectors for channels that are eventually used. If this is intentional, consider using info.normalize_proj()\n",
      "Projection vector \"EOG-eeg--0.200-0.200-PCA-03\" has magnitude 0.98 (should be unity), applying projector with 46/58 of the original channels available may be dangerous, consider recomputing and adding projection vectors for channels that are eventually used. If this is intentional, consider using info.normalize_proj()\n",
      "Projection vector \"Average EEG reference\" has magnitude 0.12 (should be unity), applying projector with 46/58 of the original channels available may be dangerous, consider recomputing and adding projection vectors for channels that are eventually used. If this is intentional, consider using info.normalize_proj()\n"
     ]
    },
    {
     "name": "stderr",
     "output_type": "stream",
     "text": [
      "<ipython-input-79-7da26757047c>:43: RuntimeWarning: Projection vector \"EOG-eeg--0.200-0.200-PCA-01\" has magnitude 0.59 (should be unity), applying projector with 46/58 of the original channels available may be dangerous, consider recomputing and adding projection vectors for channels that are eventually used. If this is intentional, consider using info.normalize_proj()\n",
      "  epochs = EpochsArray(data, epochs.info, epochs.events, epochs.tmin, epochs.event_id, proj=False)\n",
      "<ipython-input-79-7da26757047c>:43: RuntimeWarning: Projection vector \"EOG-eeg--0.200-0.200-PCA-02\" has magnitude 0.79 (should be unity), applying projector with 46/58 of the original channels available may be dangerous, consider recomputing and adding projection vectors for channels that are eventually used. If this is intentional, consider using info.normalize_proj()\n",
      "  epochs = EpochsArray(data, epochs.info, epochs.events, epochs.tmin, epochs.event_id, proj=False)\n",
      "<ipython-input-79-7da26757047c>:43: RuntimeWarning: Projection vector \"EOG-eeg--0.200-0.200-PCA-03\" has magnitude 0.98 (should be unity), applying projector with 46/58 of the original channels available may be dangerous, consider recomputing and adding projection vectors for channels that are eventually used. If this is intentional, consider using info.normalize_proj()\n",
      "  epochs = EpochsArray(data, epochs.info, epochs.events, epochs.tmin, epochs.event_id, proj=False)\n",
      "<ipython-input-79-7da26757047c>:43: RuntimeWarning: Projection vector \"Average EEG reference\" has magnitude 0.12 (should be unity), applying projector with 46/58 of the original channels available may be dangerous, consider recomputing and adding projection vectors for channels that are eventually used. If this is intentional, consider using info.normalize_proj()\n",
      "  epochs = EpochsArray(data, epochs.info, epochs.events, epochs.tmin, epochs.event_id, proj=False)\n"
     ]
    },
    {
     "name": "stdout",
     "output_type": "stream",
     "text": [
      "Multiple deprecated filter parameters were used:\n",
      "phase in 0.13 is \"zero-double\" but will change to \"zero\" in 0.14\n",
      "fir_window in 0.13 is \"hann\" but will change to \"hamming\" in 0.14\n",
      "upper transition bandwidth in 0.13 is 0.5 Hz but will change to \"auto\" in 0.14\n"
     ]
    },
    {
     "name": "stderr",
     "output_type": "stream",
     "text": [
      "<ipython-input-79-7da26757047c>:42: DeprecationWarning: Multiple deprecated filter parameters were used:\n",
      "phase in 0.13 is \"zero-double\" but will change to \"zero\" in 0.14\n",
      "fir_window in 0.13 is \"hann\" but will change to \"hamming\" in 0.14\n",
      "upper transition bandwidth in 0.13 is 0.5 Hz but will change to \"auto\" in 0.14\n",
      "  data = low_pass_filter(data, epochs.info['sfreq'], 15., filter_length='2s', n_jobs=3,)\n"
     ]
    },
    {
     "name": "stdout",
     "output_type": "stream",
     "text": [
      "Attenuation at stop frequency 15.5Hz is only 19.4dB. Increase filter_length for higher attenuation.\n"
     ]
    },
    {
     "name": "stderr",
     "output_type": "stream",
     "text": [
      "<ipython-input-79-7da26757047c>:42: RuntimeWarning: Attenuation at stop frequency 15.5Hz is only 19.4dB. Increase filter_length for higher attenuation.\n",
      "  data = low_pass_filter(data, epochs.info['sfreq'], 15., filter_length='2s', n_jobs=3,)\n"
     ]
    },
    {
     "name": "stdout",
     "output_type": "stream",
     "text": [
      "Projection vector \"EOG-eeg--0.200-0.200-PCA-01\" has magnitude 0.53 (should be unity), applying projector with 46/58 of the original channels available may be dangerous, consider recomputing and adding projection vectors for channels that are eventually used. If this is intentional, consider using info.normalize_proj()\n",
      "Projection vector \"Average EEG reference\" has magnitude 0.12 (should be unity), applying projector with 46/58 of the original channels available may be dangerous, consider recomputing and adding projection vectors for channels that are eventually used. If this is intentional, consider using info.normalize_proj()\n"
     ]
    },
    {
     "name": "stderr",
     "output_type": "stream",
     "text": [
      "<ipython-input-79-7da26757047c>:43: RuntimeWarning: Projection vector \"EOG-eeg--0.200-0.200-PCA-01\" has magnitude 0.53 (should be unity), applying projector with 46/58 of the original channels available may be dangerous, consider recomputing and adding projection vectors for channels that are eventually used. If this is intentional, consider using info.normalize_proj()\n",
      "  epochs = EpochsArray(data, epochs.info, epochs.events, epochs.tmin, epochs.event_id, proj=False)\n",
      "<ipython-input-79-7da26757047c>:43: RuntimeWarning: Projection vector \"Average EEG reference\" has magnitude 0.12 (should be unity), applying projector with 46/58 of the original channels available may be dangerous, consider recomputing and adding projection vectors for channels that are eventually used. If this is intentional, consider using info.normalize_proj()\n",
      "  epochs = EpochsArray(data, epochs.info, epochs.events, epochs.tmin, epochs.event_id, proj=False)\n"
     ]
    },
    {
     "name": "stdout",
     "output_type": "stream",
     "text": [
      "Multiple deprecated filter parameters were used:\n",
      "phase in 0.13 is \"zero-double\" but will change to \"zero\" in 0.14\n",
      "fir_window in 0.13 is \"hann\" but will change to \"hamming\" in 0.14\n",
      "upper transition bandwidth in 0.13 is 0.5 Hz but will change to \"auto\" in 0.14\n"
     ]
    },
    {
     "name": "stderr",
     "output_type": "stream",
     "text": [
      "<ipython-input-79-7da26757047c>:42: DeprecationWarning: Multiple deprecated filter parameters were used:\n",
      "phase in 0.13 is \"zero-double\" but will change to \"zero\" in 0.14\n",
      "fir_window in 0.13 is \"hann\" but will change to \"hamming\" in 0.14\n",
      "upper transition bandwidth in 0.13 is 0.5 Hz but will change to \"auto\" in 0.14\n",
      "  data = low_pass_filter(data, epochs.info['sfreq'], 15., filter_length='2s', n_jobs=3,)\n"
     ]
    },
    {
     "name": "stdout",
     "output_type": "stream",
     "text": [
      "Attenuation at stop frequency 15.5Hz is only 19.4dB. Increase filter_length for higher attenuation.\n"
     ]
    },
    {
     "name": "stderr",
     "output_type": "stream",
     "text": [
      "<ipython-input-79-7da26757047c>:42: RuntimeWarning: Attenuation at stop frequency 15.5Hz is only 19.4dB. Increase filter_length for higher attenuation.\n",
      "  data = low_pass_filter(data, epochs.info['sfreq'], 15., filter_length='2s', n_jobs=3,)\n"
     ]
    },
    {
     "name": "stdout",
     "output_type": "stream",
     "text": [
      "Projection vector \"EOG-eeg--0.200-0.200-PCA-01\" has magnitude 0.55 (should be unity), applying projector with 48/60 of the original channels available may be dangerous, consider recomputing and adding projection vectors for channels that are eventually used. If this is intentional, consider using info.normalize_proj()\n",
      "Projection vector \"Average EEG reference\" has magnitude 0.12 (should be unity), applying projector with 48/60 of the original channels available may be dangerous, consider recomputing and adding projection vectors for channels that are eventually used. If this is intentional, consider using info.normalize_proj()\n"
     ]
    },
    {
     "name": "stderr",
     "output_type": "stream",
     "text": [
      "<ipython-input-79-7da26757047c>:43: RuntimeWarning: Projection vector \"EOG-eeg--0.200-0.200-PCA-01\" has magnitude 0.55 (should be unity), applying projector with 48/60 of the original channels available may be dangerous, consider recomputing and adding projection vectors for channels that are eventually used. If this is intentional, consider using info.normalize_proj()\n",
      "  epochs = EpochsArray(data, epochs.info, epochs.events, epochs.tmin, epochs.event_id, proj=False)\n",
      "<ipython-input-79-7da26757047c>:43: RuntimeWarning: Projection vector \"Average EEG reference\" has magnitude 0.12 (should be unity), applying projector with 48/60 of the original channels available may be dangerous, consider recomputing and adding projection vectors for channels that are eventually used. If this is intentional, consider using info.normalize_proj()\n",
      "  epochs = EpochsArray(data, epochs.info, epochs.events, epochs.tmin, epochs.event_id, proj=False)\n"
     ]
    },
    {
     "name": "stdout",
     "output_type": "stream",
     "text": [
      "Multiple deprecated filter parameters were used:\n",
      "phase in 0.13 is \"zero-double\" but will change to \"zero\" in 0.14\n",
      "fir_window in 0.13 is \"hann\" but will change to \"hamming\" in 0.14\n",
      "upper transition bandwidth in 0.13 is 0.5 Hz but will change to \"auto\" in 0.14\n"
     ]
    },
    {
     "name": "stderr",
     "output_type": "stream",
     "text": [
      "<ipython-input-79-7da26757047c>:42: DeprecationWarning: Multiple deprecated filter parameters were used:\n",
      "phase in 0.13 is \"zero-double\" but will change to \"zero\" in 0.14\n",
      "fir_window in 0.13 is \"hann\" but will change to \"hamming\" in 0.14\n",
      "upper transition bandwidth in 0.13 is 0.5 Hz but will change to \"auto\" in 0.14\n",
      "  data = low_pass_filter(data, epochs.info['sfreq'], 15., filter_length='2s', n_jobs=3,)\n"
     ]
    },
    {
     "name": "stdout",
     "output_type": "stream",
     "text": [
      "Attenuation at stop frequency 15.5Hz is only 19.4dB. Increase filter_length for higher attenuation.\n"
     ]
    },
    {
     "name": "stderr",
     "output_type": "stream",
     "text": [
      "<ipython-input-79-7da26757047c>:42: RuntimeWarning: Attenuation at stop frequency 15.5Hz is only 19.4dB. Increase filter_length for higher attenuation.\n",
      "  data = low_pass_filter(data, epochs.info['sfreq'], 15., filter_length='2s', n_jobs=3,)\n"
     ]
    },
    {
     "name": "stdout",
     "output_type": "stream",
     "text": [
      "Projection vector \"EOG-eeg--0.200-0.200-PCA-01\" has magnitude 0.55 (should be unity), applying projector with 46/58 of the original channels available may be dangerous, consider recomputing and adding projection vectors for channels that are eventually used. If this is intentional, consider using info.normalize_proj()\n",
      "Projection vector \"Average EEG reference\" has magnitude 0.12 (should be unity), applying projector with 46/58 of the original channels available may be dangerous, consider recomputing and adding projection vectors for channels that are eventually used. If this is intentional, consider using info.normalize_proj()\n"
     ]
    },
    {
     "name": "stderr",
     "output_type": "stream",
     "text": [
      "<ipython-input-79-7da26757047c>:43: RuntimeWarning: Projection vector \"EOG-eeg--0.200-0.200-PCA-01\" has magnitude 0.55 (should be unity), applying projector with 46/58 of the original channels available may be dangerous, consider recomputing and adding projection vectors for channels that are eventually used. If this is intentional, consider using info.normalize_proj()\n",
      "  epochs = EpochsArray(data, epochs.info, epochs.events, epochs.tmin, epochs.event_id, proj=False)\n",
      "<ipython-input-79-7da26757047c>:43: RuntimeWarning: Projection vector \"Average EEG reference\" has magnitude 0.12 (should be unity), applying projector with 46/58 of the original channels available may be dangerous, consider recomputing and adding projection vectors for channels that are eventually used. If this is intentional, consider using info.normalize_proj()\n",
      "  epochs = EpochsArray(data, epochs.info, epochs.events, epochs.tmin, epochs.event_id, proj=False)\n"
     ]
    },
    {
     "name": "stdout",
     "output_type": "stream",
     "text": [
      "Multiple deprecated filter parameters were used:\n",
      "phase in 0.13 is \"zero-double\" but will change to \"zero\" in 0.14\n",
      "fir_window in 0.13 is \"hann\" but will change to \"hamming\" in 0.14\n",
      "upper transition bandwidth in 0.13 is 0.5 Hz but will change to \"auto\" in 0.14\n"
     ]
    },
    {
     "name": "stderr",
     "output_type": "stream",
     "text": [
      "<ipython-input-79-7da26757047c>:42: DeprecationWarning: Multiple deprecated filter parameters were used:\n",
      "phase in 0.13 is \"zero-double\" but will change to \"zero\" in 0.14\n",
      "fir_window in 0.13 is \"hann\" but will change to \"hamming\" in 0.14\n",
      "upper transition bandwidth in 0.13 is 0.5 Hz but will change to \"auto\" in 0.14\n",
      "  data = low_pass_filter(data, epochs.info['sfreq'], 15., filter_length='2s', n_jobs=3,)\n"
     ]
    },
    {
     "name": "stdout",
     "output_type": "stream",
     "text": [
      "Attenuation at stop frequency 15.5Hz is only 19.4dB. Increase filter_length for higher attenuation.\n"
     ]
    },
    {
     "name": "stderr",
     "output_type": "stream",
     "text": [
      "<ipython-input-79-7da26757047c>:42: RuntimeWarning: Attenuation at stop frequency 15.5Hz is only 19.4dB. Increase filter_length for higher attenuation.\n",
      "  data = low_pass_filter(data, epochs.info['sfreq'], 15., filter_length='2s', n_jobs=3,)\n"
     ]
    },
    {
     "name": "stdout",
     "output_type": "stream",
     "text": [
      "Projection vector \"EOG-eeg--0.200-0.200-PCA-01\" has magnitude 0.61 (should be unity), applying projector with 41/50 of the original channels available may be dangerous, consider recomputing and adding projection vectors for channels that are eventually used. If this is intentional, consider using info.normalize_proj()\n",
      "Projection vector \"Average EEG reference\" has magnitude 0.13 (should be unity), applying projector with 41/50 of the original channels available may be dangerous, consider recomputing and adding projection vectors for channels that are eventually used. If this is intentional, consider using info.normalize_proj()\n"
     ]
    },
    {
     "name": "stderr",
     "output_type": "stream",
     "text": [
      "<ipython-input-79-7da26757047c>:43: RuntimeWarning: Projection vector \"EOG-eeg--0.200-0.200-PCA-01\" has magnitude 0.61 (should be unity), applying projector with 41/50 of the original channels available may be dangerous, consider recomputing and adding projection vectors for channels that are eventually used. If this is intentional, consider using info.normalize_proj()\n",
      "  epochs = EpochsArray(data, epochs.info, epochs.events, epochs.tmin, epochs.event_id, proj=False)\n",
      "<ipython-input-79-7da26757047c>:43: RuntimeWarning: Projection vector \"Average EEG reference\" has magnitude 0.13 (should be unity), applying projector with 41/50 of the original channels available may be dangerous, consider recomputing and adding projection vectors for channels that are eventually used. If this is intentional, consider using info.normalize_proj()\n",
      "  epochs = EpochsArray(data, epochs.info, epochs.events, epochs.tmin, epochs.event_id, proj=False)\n"
     ]
    },
    {
     "name": "stdout",
     "output_type": "stream",
     "text": [
      "Multiple deprecated filter parameters were used:\n",
      "phase in 0.13 is \"zero-double\" but will change to \"zero\" in 0.14\n",
      "fir_window in 0.13 is \"hann\" but will change to \"hamming\" in 0.14\n",
      "upper transition bandwidth in 0.13 is 0.5 Hz but will change to \"auto\" in 0.14\n"
     ]
    },
    {
     "name": "stderr",
     "output_type": "stream",
     "text": [
      "<ipython-input-79-7da26757047c>:42: DeprecationWarning: Multiple deprecated filter parameters were used:\n",
      "phase in 0.13 is \"zero-double\" but will change to \"zero\" in 0.14\n",
      "fir_window in 0.13 is \"hann\" but will change to \"hamming\" in 0.14\n",
      "upper transition bandwidth in 0.13 is 0.5 Hz but will change to \"auto\" in 0.14\n",
      "  data = low_pass_filter(data, epochs.info['sfreq'], 15., filter_length='2s', n_jobs=3,)\n"
     ]
    },
    {
     "name": "stdout",
     "output_type": "stream",
     "text": [
      "Attenuation at stop frequency 15.5Hz is only 19.4dB. Increase filter_length for higher attenuation.\n"
     ]
    },
    {
     "name": "stderr",
     "output_type": "stream",
     "text": [
      "<ipython-input-79-7da26757047c>:42: RuntimeWarning: Attenuation at stop frequency 15.5Hz is only 19.4dB. Increase filter_length for higher attenuation.\n",
      "  data = low_pass_filter(data, epochs.info['sfreq'], 15., filter_length='2s', n_jobs=3,)\n"
     ]
    },
    {
     "name": "stdout",
     "output_type": "stream",
     "text": [
      "Projection vector \"EOG-eeg--0.200-0.200-PCA-01\" has magnitude 0.52 (should be unity), applying projector with 48/60 of the original channels available may be dangerous, consider recomputing and adding projection vectors for channels that are eventually used. If this is intentional, consider using info.normalize_proj()\n",
      "Projection vector \"EOG-eeg--0.200-0.200-PCA-02\" has magnitude 0.69 (should be unity), applying projector with 48/60 of the original channels available may be dangerous, consider recomputing and adding projection vectors for channels that are eventually used. If this is intentional, consider using info.normalize_proj()\n",
      "Projection vector \"Average EEG reference\" has magnitude 0.12 (should be unity), applying projector with 48/60 of the original channels available may be dangerous, consider recomputing and adding projection vectors for channels that are eventually used. If this is intentional, consider using info.normalize_proj()\n"
     ]
    },
    {
     "name": "stderr",
     "output_type": "stream",
     "text": [
      "<ipython-input-79-7da26757047c>:43: RuntimeWarning: Projection vector \"EOG-eeg--0.200-0.200-PCA-01\" has magnitude 0.52 (should be unity), applying projector with 48/60 of the original channels available may be dangerous, consider recomputing and adding projection vectors for channels that are eventually used. If this is intentional, consider using info.normalize_proj()\n",
      "  epochs = EpochsArray(data, epochs.info, epochs.events, epochs.tmin, epochs.event_id, proj=False)\n",
      "<ipython-input-79-7da26757047c>:43: RuntimeWarning: Projection vector \"EOG-eeg--0.200-0.200-PCA-02\" has magnitude 0.69 (should be unity), applying projector with 48/60 of the original channels available may be dangerous, consider recomputing and adding projection vectors for channels that are eventually used. If this is intentional, consider using info.normalize_proj()\n",
      "  epochs = EpochsArray(data, epochs.info, epochs.events, epochs.tmin, epochs.event_id, proj=False)\n",
      "<ipython-input-79-7da26757047c>:43: RuntimeWarning: Projection vector \"Average EEG reference\" has magnitude 0.12 (should be unity), applying projector with 48/60 of the original channels available may be dangerous, consider recomputing and adding projection vectors for channels that are eventually used. If this is intentional, consider using info.normalize_proj()\n",
      "  epochs = EpochsArray(data, epochs.info, epochs.events, epochs.tmin, epochs.event_id, proj=False)\n"
     ]
    }
   ],
   "source": [
    "import os\n",
    "import numpy as np\n",
    "import pylab as plt\n",
    "from mne import EpochsArray, combine_evoked, grand_average, read_epochs, set_log_level\n",
    "from mne.channels import read_montage\n",
    "from mne.filter import low_pass_filter\n",
    "set_log_level(verbose=False)\n",
    "\n",
    "#~~~~~~~~~~~~~~~~~~~~~~~~~~~~~~~~~~~~~~~~#\n",
    "### Define parameters.\n",
    "#~~~~~~~~~~~~~~~~~~~~~~~~~~~~~~~~~~~~~~~~#\n",
    "\n",
    "subjects = ['BRTU','CHDR','CRDA','JADE','JASE','M5','MEWA','S2']\n",
    "analysis = 'resp'\n",
    "task = 'msit'\n",
    "h_freq = 50\n",
    "\n",
    "#~~~~~~~~~~~~~~~~~~~~~~~~~~~~~~~~~~~~~~~~#\n",
    "### Load data.\n",
    "#~~~~~~~~~~~~~~~~~~~~~~~~~~~~~~~~~~~~~~~~#\n",
    "montage = read_montage('standard_1020')\n",
    "\n",
    "evokeds = []\n",
    "\n",
    "for subject in subjects:\n",
    "\n",
    "    ## Load epochs.\n",
    "    epochs = read_epochs('ave/%s_%s_%s_%s-epo.fif' %(subject,task,h_freq,analysis))\n",
    "\n",
    "    ## Update channel names according to montage.\n",
    "    ch_map = dict()\n",
    "    for ch in epochs.ch_names:\n",
    "        ix = [m.lower() for m in montage.ch_names].index(ch.lower())\n",
    "        ch_map[ch] = montage.ch_names[ix]\n",
    "    epochs.rename_channels(ch_map)\n",
    "\n",
    "    ## Set montage.\n",
    "    epochs.set_montage(montage)\n",
    "\n",
    "    ## Lowpass filter. Reassemble.\n",
    "    data = epochs.get_data()        \n",
    "    data = low_pass_filter(data, epochs.info['sfreq'], 15., filter_length='2s', n_jobs=3,)\n",
    "    epochs = EpochsArray(data, epochs.info, epochs.events, epochs.tmin, epochs.event_id, proj=False)\n",
    "\n",
    "    ## Compute evoked.\n",
    "    evokeds.append( epochs.average() )\n",
    "\n",
    "## Compute grand average.\n",
    "evokeds = grand_average(evokeds)"
   ]
  },
  {
   "cell_type": "code",
   "execution_count": 84,
   "metadata": {
    "collapsed": false
   },
   "outputs": [
    {
     "name": "stdout",
     "output_type": "stream",
     "text": [
      "Colorbar is drawn to the rightmost column of the figure. Be sure to provide enough space for it or turn it off with colorbar=False.\n"
     ]
    },
    {
     "name": "stderr",
     "output_type": "stream",
     "text": [
      "<ipython-input-84-83f25dc64667>:23: RuntimeWarning: Colorbar is drawn to the rightmost column of the figure. Be sure to provide enough space for it or turn it off with colorbar=False.\n",
      "  evokeds.plot_topomap(times = -0.7, cmap='spectral', colorbar=True, axes=ax)\n"
     ]
    },
    {
     "data": {
      "image/png": "[encoded data removed]",
      "text/plain": [
       "<matplotlib.figure.Figure at 0x2b5fa93a6990>"
      ]
     },
     "metadata": {},
     "output_type": "display_data"
    }
   ],
   "source": [
    "#~~~~~~~~~~~~~~~~~~~~~~~~~~~~~~~~~~~~~~~~#\n",
    "### Plotting.\n",
    "#~~~~~~~~~~~~~~~~~~~~~~~~~~~~~~~~~~~~~~~~#\n",
    "\n",
    "if analysis == 'stim': \n",
    "\n",
    "    fig = plt.figure(figsize=(6,6))\n",
    "    ax = plt.subplot2grid((1,1),(0,0))\n",
    "    evokeds.plot_topomap(times = 0.52, cmap='spectral', colorbar=False, axes=ax)\n",
    "    plt.savefig('plots/manuscript/fig2/topo_sensor_stim.png')\n",
    "    plt.close()\n",
    "    \n",
    "    fig = plt.figure(figsize=(6,6))\n",
    "    ax = plt.subplot2grid((1,1),(0,0))\n",
    "    evokeds.plot_topomap(times = 0.52, cmap='spectral', colorbar=True, axes=ax)\n",
    "    plt.savefig('plots/manuscript/fig2/topo_sensor_stim_cbar.png')\n",
    "    plt.close()\n",
    "    \n",
    "elif analysis == 'resp':\n",
    "    \n",
    "    fig = plt.figure(figsize=(6,6))\n",
    "    ax = plt.subplot2grid((1,1),(0,0))\n",
    "    evokeds.plot_topomap(times = -0.7, cmap='spectral', colorbar=True, axes=ax)"
   ]
  },
  {
   "cell_type": "markdown",
   "metadata": {},
   "source": [
    "### dACC Figure"
   ]
  },
  {
   "cell_type": "code",
   "execution_count": null,
   "metadata": {
    "collapsed": false
   },
   "outputs": [],
   "source": [
    "import os\n",
    "import numpy as np\n",
    "import pylab as plt\n",
    "import seaborn as sns\n",
    "from pandas import read_csv\n",
    "sns.set(style=\"white\", font_scale=2.0)\n",
    "\n",
    "#~~~~~~~~~~~~~~~~~~~~~~~~~~~~~~~~~~~~~~~~~~~~~~~~~~~#\n",
    "### Define parameters.\n",
    "#~~~~~~~~~~~~~~~~~~~~~~~~~~~~~~~~~~~~~~~~~~~~~~~~~~~#\n",
    "\n",
    "## File parameters.\n",
    "model_name = 'revised'\n",
    "space = 'source'\n",
    "label = 'dacc-lh'\n",
    "freq = 15\n",
    "\n",
    "## Plotting parameters.\n",
    "contrasts = ['Interference','DBS']\n",
    "palettes = [ ['#7b3294','#008837'], ['#0571b0','#ca0020'] ]\n",
    "annotations = [ ['Control', 'Interference'], ['OFF','ON'] ]\n",
    "ylabel = 'Current Density (dSPM)'\n",
    "y1, y2 = -0.2, 0.2\n",
    "\n",
    "#~~~~~~~~~~~~~~~~~~~~~~~~~~~~~~~~~~~~~~~~~~~~~~~~~~~#\n",
    "### Main loop.\n",
    "#~~~~~~~~~~~~~~~~~~~~~~~~~~~~~~~~~~~~~~~~~~~~~~~~~~~#\n",
    "\n",
    "## Intialize figure.\n",
    "fig, axes = plt.subplots(2,2,figsize=(15,9),sharey=True)\n",
    "info = read_csv(os.path.join(space, 'afMSIT_%s_info.csv' %space))\n",
    "\n",
    "for n, contrast, colors, legends in zip(range(2), contrasts, palettes, annotations):\n",
    "    \n",
    "    for m, analysis in enumerate(['stim', 'resp']):\n",
    "\n",
    "        #~~~~~~~~~~~~~~~~~~~~~~~~~~~~~~~~~~~~~~~~~~~~~~~~~~~#\n",
    "        ### Load data.\n",
    "        #~~~~~~~~~~~~~~~~~~~~~~~~~~~~~~~~~~~~~~~~~~~~~~~~~~~#\n",
    "\n",
    "        ## Load source data.\n",
    "        npz = np.load(os.path.join(space, 'afMSIT_%s_%s_%s_%s.npz' %(space,analysis,label,freq)))\n",
    "        data = npz['data']\n",
    "        times = npz['times']\n",
    "\n",
    "        ## Load cluster results.\n",
    "        f = os.path.join(space, 'results', '%s_%s_timedomain_results.csv' %(model_name, analysis))\n",
    "        clusters = read_csv(f)\n",
    "        \n",
    "        #~~~~~~~~~~~~~~~~~~~~~~~~~~~~~~~~~~~~~~~~~~~~~~~~~~~#\n",
    "        ### Plotting.\n",
    "        #~~~~~~~~~~~~~~~~~~~~~~~~~~~~~~~~~~~~~~~~~~~~~~~~~~~#\n",
    "\n",
    "        for i, color, legend in zip(range(2),colors,legends):\n",
    "\n",
    "            ix, = np.where(info[contrast]==i)\n",
    "            mu = data[ix].mean(axis=0)\n",
    "            se = data[ix].std(axis=0) / np.sqrt(len(ix))\n",
    "            axes[n,m].plot(times, mu, linewidth=2, color=color, label=legend)\n",
    "            axes[n,m].fill_between(times, mu-se, mu+se, color=color, alpha=0.2)\n",
    "\n",
    "        ## Plot significant clusters.\n",
    "        axes[n,m].set_ylim(-0.2,0.2)\n",
    "        for ix in np.where((clusters.Label==label)&(clusters.Freq==freq)&\n",
    "                           (clusters.Contrast==contrast)&(clusters.FDR<0.05))[0]:\n",
    "            tmin, tmax = clusters.loc[ix,'Tmin'], clusters.loc[ix,'Tmax']\n",
    "            axes[n,m].fill_between(np.linspace(tmin,tmax,1e3), y1, y2, color='k', alpha=0.2)    \n",
    "    \n",
    "#~~~~~~~~~~~~~~~~~~~~~~~~~~~~~~~~~~~~~~~~~~~~~~~~~~~#\n",
    "### Add flourishes.\n",
    "#~~~~~~~~~~~~~~~~~~~~~~~~~~~~~~~~~~~~~~~~~~~~~~~~~~~#\n",
    "\n",
    "for n in range(2):\n",
    "    \n",
    "    for m in range(2):\n",
    "        \n",
    "        ## Universal edits.\n",
    "        axes[n,m].spines['right'].set_visible(False)\n",
    "        axes[n,m].spines['top'].set_visible(False)\n",
    "        \n",
    "        ## Stimulus-locked edits.\n",
    "        if not m:\n",
    "            \n",
    "            ## Fix x-axis.\n",
    "            xticks = np.array([0.0, 0.4, 0.9, 1.4])\n",
    "            axes[n,m].set_xticks(xticks)\n",
    "            axes[n,m].set_xticklabels(xticks - 0.4)\n",
    "            axes[n,m].set_xlim(-0.25,1.5)\n",
    "            \n",
    "            ## Fix y-axis\n",
    "            axes[n,m].set_ylabel(ylabel)\n",
    "            \n",
    "            ## Add markers.\n",
    "            for x,s in zip([0, 0.4, 1.127],['IAPS','MSIT','Resp']): \n",
    "                axes[n,m].text(x+0.02,y1+np.abs(y1*0.05),s,fontsize=16)\n",
    "                axes[n,m].vlines(x,y1,y2,linestyle='--',alpha=0.3)\n",
    "                \n",
    "        ## Response-locked edits.\n",
    "        else:\n",
    "                        \n",
    "            ## Add markers\n",
    "            axes[n,m].text(0.02,y1+np.abs(y1*0.05),'Resp',fontsize=16)\n",
    "            axes[n,m].vlines(0.0,y1,y2,linestyle='--',alpha=0.3)\n",
    "        \n",
    "            ## Add legends above plot.\n",
    "            axes[n,m].legend(loc =1, handlelength=1.2, #bbox_to_anchor=(1.0, 1.15),\n",
    "                             handletextpad=0.5, borderpad=0, fontsize=18)\n",
    "        \n",
    "        ## Add y-labels.\n",
    "        if n: axes[n,m].set_xlabel('Time (s)')\n",
    "            \n",
    "            \n",
    "plt.subplots_adjust(top=0.97, left = 0.08, right = 0.98, \n",
    "                    bottom=0.1, hspace=0.2, wspace=0.05)\n",
    "plt.savefig('plots/manuscript/fig2/dacc_erp.png')\n",
    "plt.savefig('plots/manuscript/fig2/dacc_erp.svg')\n",
    "plt.show()\n",
    "plt.close()"
   ]
  },
  {
   "cell_type": "markdown",
   "metadata": {},
   "source": [
    "### Significant ERP Clusters"
   ]
  },
  {
   "cell_type": "code",
   "execution_count": null,
   "metadata": {
    "collapsed": false
   },
   "outputs": [],
   "source": [
    "import os\n",
    "import numpy as np\n",
    "import pylab as plt\n",
    "import seaborn as sns\n",
    "from pandas import read_csv\n",
    "sns.set(style=\"white\", font_scale=1.25)\n",
    "\n",
    "#~~~~~~~~~~~~~~~~~~~~~~~~~~~~~~~~~~~~~~~~~~~~~~~~~~~#\n",
    "### Load and prepare data.\n",
    "#~~~~~~~~~~~~~~~~~~~~~~~~~~~~~~~~~~~~~~~~~~~~~~~~~~~#\n",
    "\n",
    "## Load data.\n",
    "f = 'source/results/revised_stim_timedomain_results.csv'\n",
    "df = read_csv(f)\n",
    "\n",
    "## Limit data.\n",
    "df = df[df.FDR<0.05].reset_index(drop=True)\n",
    "\n",
    "#~~~~~~~~~~~~~~~~~~~~~~~~~~~~~~~~~~~~~~~~~~~~~~~~~~~#\n",
    "### Plotting.\n",
    "#~~~~~~~~~~~~~~~~~~~~~~~~~~~~~~~~~~~~~~~~~~~~~~~~~~~#\n",
    "\n",
    "fig, ax = plt.subplots(1,1,figsize=(5,12))\n",
    "\n",
    "labels = ['racc-lh', 'dacc-lh', 'pcc-lh', 'dmpfc-lh', 'dlpfc_1-lh', 'dlpfc_2-lh', \n",
    "          'dlpfc_3-lh', 'dlpfc_4-lh', 'dlpfc_5-lh', 'dlpfc_6-lh', \n",
    "          'racc-rh', 'dacc-rh', 'pcc-rh', 'dmpfc-rh', 'dlpfc_1-rh', 'dlpfc_2-rh', \n",
    "          'dlpfc_3-rh', 'dlpfc_4-rh', 'dlpfc_5-rh', 'dlpfc_6-rh']\n",
    "\n",
    "for n in range(len(df)):\n",
    "    \n",
    "    if df.loc[n,'Contrast'] == 'Interference': color = '#008837'\n",
    "    elif df.loc[n,'Contrast'] == 'nsArousal': color = '#e6550d'\n",
    "    else: continue\n",
    "        \n",
    "    y = labels[::-1].index(df.loc[n,'Label'])\n",
    "    ax.fill_between(df.loc[n,['Tmin','Tmax']].astype(float), y+0.05, y+0.95, color=color, alpha=0.8)\n",
    "\n",
    "#~~~~~~~~~~~~~~~~~~~~~~~~~~~~~~~~~~~~~~~~~~~~~~~~~~~#\n",
    "### Add flourishes.\n",
    "#~~~~~~~~~~~~~~~~~~~~~~~~~~~~~~~~~~~~~~~~~~~~~~~~~~~#\n",
    "\n",
    "## Add legend.\n",
    "for label, color in zip(['Interference','Arousal'],['#008837','#e6550d']): \n",
    "    ax.plot([],[],lw=10,color=color,label=label,alpha=0.7)\n",
    "ax.legend(bbox_to_anchor=(0.5,1.08), handlelength=1.25, borderaxespad=0)\n",
    "    \n",
    "## Add timing details.\n",
    "y1, y2 = 0, len(labels)\n",
    "for x,s in zip([0, 0.4, 1.127],['IAPS','MSIT','Resp']): \n",
    "    ax.text(x+0.02,0.25,s,weight='semibold')\n",
    "    ax.vlines(x, y1, y2, linewidth=2.5, linestyle='--',alpha=0.2)    \n",
    "\n",
    "## Fix x-axis.\n",
    "xticks = np.array([0.0, 0.4, 0.9, 1.4])\n",
    "ax.set_xticks(xticks)\n",
    "ax.set_xticklabels(xticks - 0.4)\n",
    "ax.set_xlim(-0.25,1.5)\n",
    "ax.set_xlabel('Time (s)')\n",
    "\n",
    "## Fix y-axis.\n",
    "labels = ['rACC', 'dACC', 'mCC', 'dmPFC', 'SFG', 'pMFG', 'aMFG 1', 'aMFG 2', 'aIFG', 'pIFG'] * 2\n",
    "ax.set_yticks(np.arange(len(labels))+0.5)\n",
    "ax.set_yticklabels(labels[::-1]);\n",
    "\n",
    "## Add dendrograms.\n",
    "def dendrogram(ax, x, y1, y2, text):\n",
    "    \n",
    "    ## Parameters\n",
    "    lw = 2.0\n",
    "    alpha = 0.2\n",
    "    \n",
    "    ## Drawing\n",
    "    ax.annotate('', (x, y1), xycoords='axes fraction', xytext=(x,y2), \n",
    "                arrowprops=dict(arrowstyle='-', color='k',  linewidth=lw, alpha=alpha))\n",
    "    ax.annotate('', (x*1.02,y1), xycoords='axes fraction', xytext=(-1e-3,y1), \n",
    "                arrowprops=dict(arrowstyle='-', color='k',  linewidth=lw, alpha=alpha))\n",
    "    ax.annotate('', (x*1.02,y2), xycoords='axes fraction', xytext=(-1e-3,y2), \n",
    "                arrowprops=dict(arrowstyle='-', color='k',  linewidth=lw, alpha=alpha))\n",
    "    ax.annotate(text, (0,0), xycoords='axes fraction', xytext=(x*1.4, np.mean([y1,y2])), \n",
    "                rotation=90, fontsize=18, va='center')\n",
    "\n",
    "dendrogram(ax, -0.3, 0, 0.495, 'Right Hemi')\n",
    "dendrogram(ax, -0.3, 0.505, 1, 'Left Hemi')\n",
    "\n",
    "plt.subplots_adjust(left=0.3, right=0.975, top=0.925, bottom=0.075)\n",
    "plt.savefig('plots/manuscript/fig2/all_erps.png')\n",
    "plt.savefig('plots/manuscript/fig2/all_erps.svg')\n",
    "plt.show()\n",
    "plt.close()"
   ]
  },
  {
   "cell_type": "markdown",
   "metadata": {},
   "source": [
    "## Figure 4"
   ]
  },
  {
   "cell_type": "markdown",
   "metadata": {},
   "source": [
    "### DLPFC_5-LH Secondary Analysis (Correlations, ROC)"
   ]
  },
  {
   "cell_type": "code",
   "execution_count": null,
   "metadata": {
    "collapsed": false
   },
   "outputs": [],
   "source": [
    "import os\n",
    "import numpy as np\n",
    "import pylab as plt\n",
    "import seaborn as sns\n",
    "from pandas import DataFrame, read_csv\n",
    "from scipy.stats import pearsonr\n",
    "from sklearn.metrics import auc, roc_curve\n",
    "sns.set(style=\"white\")\n",
    "sns.set_context(context='paper', font_scale=1.5)\n",
    "\n",
    "#~~~~~~~~~~~~~~~~~~~~~~~~~~~~~~~~~~~~~~~~~~~~~~~~~~~#\n",
    "### Define parameters.\n",
    "#~~~~~~~~~~~~~~~~~~~~~~~~~~~~~~~~~~~~~~~~~~~~~~~~~~~#\n",
    "\n",
    "## I/O parameters.\n",
    "space = 'source'\n",
    "analysis = 'stim'\n",
    "domain = 'frequency'\n",
    "model = 'revised'\n",
    "contrast = 'DBS'\n",
    "fdr = 0.05\n",
    "    \n",
    "#~~~~~~~~~~~~~~~~~~~~~~~~~~~~~~~~~~~~~~~~~~~~~~~~~~~#\n",
    "### Prepare clinical scores.\n",
    "#~~~~~~~~~~~~~~~~~~~~~~~~~~~~~~~~~~~~~~~~~~~~~~~~~~~#\n",
    "\n",
    "scores = read_csv('behavior/afMSIT_demographics.csv', index_col=0)\n",
    "subjects = scores.index\n",
    "\n",
    "madrs = scores['MADRS_Now'] - scores['MADRS_Base']\n",
    "mania = scores['Hypomania']\n",
    "\n",
    "#~~~~~~~~~~~~~~~~~~~~~~~~~~~~~~~~~~~~~~~~~~~~~~~~~~~#\n",
    "### Load and prepare data.\n",
    "#~~~~~~~~~~~~~~~~~~~~~~~~~~~~~~~~~~~~~~~~~~~~~~~~~~~#\n",
    "\n",
    "info = read_csv(os.path.join(space, 'afMSIT_%s_info.csv' %space))\n",
    "\n",
    "## Load cluster results.\n",
    "results = read_csv(os.path.join(space, 'results', '%s_%s_%s_results.csv' %(model,analysis,domain)))\n",
    "results = results[(results.Contrast==contrast)&(results.FDR<fdr)].reset_index(drop=True)\n",
    "results = results[results.Label == 'dlpfc_5-lh'] # Limit to the theta clusters.\n",
    "\n",
    "## Load time series data.\n",
    "npz = np.load(os.path.join(space, 'afMSIT_%s_%s_%s_%s.npz' %(space, analysis, 'dlpfc_5-lh', 'theta')))\n",
    "data = npz['data']\n",
    "times = npz['times']\n",
    "\n",
    "## Compute condition differences.\n",
    "delta = np.zeros(subjects.shape[0])\n",
    "mask = (times >= results.Tmin.min()) & (times <= results.Tmax.max()) # NOTE: collapsing across clusters\n",
    "\n",
    "for m, subject in enumerate(subjects):\n",
    "    i, = np.where((info['Subject']==subject)&(info[contrast]==0))\n",
    "    j, = np.where((info['Subject']==subject)&(info[contrast]==1))\n",
    "    delta[m] += (data[j][:,mask].mean(axis=0) - data[i][:,mask].mean(axis=0)).mean()\n",
    "\n",
    "#~~~~~~~~~~~~~~~~~~~~~~~~~~~~~~~~~~~~~~~~~~~~~~~~~~~#\n",
    "### Correlation plots.\n",
    "#~~~~~~~~~~~~~~~~~~~~~~~~~~~~~~~~~~~~~~~~~~~~~~~~~~~#  \n",
    "np.random.seed(47404)\n",
    "\n",
    "## Prepare data.\n",
    "df = np.concatenate([np.vstack([delta,madrs]), np.vstack([delta,mania])], axis=-1)\n",
    "df = DataFrame(df.T, columns=['Theta','Data'])\n",
    "df['Group'] = np.concatenate([np.repeat('MADRS',len(subjects)), np.repeat('Mania',len(subjects))])\n",
    "\n",
    "## Initialize figures. Plot.\n",
    "fig = plt.figure(figsize=(12,6))\n",
    "pal = dict()\n",
    "for y, c in zip(['MADRS','Mania'],sns.color_palette(palette='deep')): pal[y] = c\n",
    "G = sns.lmplot('Data','Theta',df,hue='Group',col='Group', palette=pal,sharex=False);\n",
    "axes, = G.axes;\n",
    "\n",
    "## Add flourishes to MADRS figure.\n",
    "axes[0].set_xlabel('MADRS (Post - Pre)', fontsize=18)\n",
    "axes[0].set_ylabel('Theta Power (On - Off)', fontsize=18)\n",
    "axes[0].set_title('Depression Response', fontsize=24)\n",
    "r, p = pearsonr(*df.loc[df.Group=='MADRS',['Theta','Data']].copy().dropna().as_matrix().T)\n",
    "axes[0].text(axes[0].get_xlim()[0] + np.abs(axes[0].get_xlim()[0])*0.02, \n",
    "             axes[0].get_ylim()[-1]*0.97, \n",
    "             'r = %0.3f\\np = %0.3f' %(r,p), va='top', ha='left')\n",
    "\n",
    "## Add flourishes to mania figure.\n",
    "axes[1].set_xticks([0,1])\n",
    "axes[1].set_xticklabels(['No History','Converted'], fontsize=18)\n",
    "axes[1].set_xlabel('')\n",
    "axes[1].set_title('Mania', fontsize=24)\n",
    "r, p = pearsonr(*df.loc[df.Group=='Mania',['Theta','Data']].copy().dropna().as_matrix().T)\n",
    "axes[1].text(axes[1].get_xlim()[0] + np.abs(axes[1].get_xlim()[0])*0.05, \n",
    "             axes[1].get_ylim()[-1]*0.97, \n",
    "             'r = %0.3f\\np = %0.3f' %(r,p), va='top', ha='left')\n",
    "\n",
    "plt.tight_layout()\n",
    "# plt.show()\n",
    "for ext in ['png', 'svg']: plt.savefig('plots/FINAL/clinical_results.%s' %ext)\n",
    "plt.close('all')\n",
    "\n",
    "#~~~~~~~~~~~~~~~~~~~~~~~~~~~~~~~~~~~~~~~~~~~~~~~~~~~#\n",
    "### ROC plots.\n",
    "#~~~~~~~~~~~~~~~~~~~~~~~~~~~~~~~~~~~~~~~~~~~~~~~~~~~#  \n",
    "\n",
    "## Compute clinical response, ROC, and AUC.\n",
    "clinical_response = np.where(scores['MADRS_Now'] / scores['MADRS_Base'] > 0.5, 0, 1)\n",
    "fpr, tpr, thresholds = roc_curve(clinical_response, delta)\n",
    "roc_auc = auc(tpr, fpr)\n",
    "\n",
    "## Plot.\n",
    "fig, ax = plt.subplots(1,1,figsize=(6,4))\n",
    "ax.plot(tpr, fpr, color='darkorange', lw=2, label='ROC curve (area = %0.2f)' %roc_auc)\n",
    "ax.plot(np.linspace(0,1,1e3),np.linspace(0,1,1e3),lw=1,linestyle='--',color='k')\n",
    "\n",
    "## Add flourishes.\n",
    "ax.set_xlim([0.0, 1.0])\n",
    "ax.set_ylim([0.0, 1.05])\n",
    "ax.set_xlabel('False Positive Rate', fontsize=16)\n",
    "ax.set_ylabel('True Positive Rate', fontsize=16)\n",
    "ax.set_title('Clinical Response ROC', fontsize=24)\n",
    "ax.legend(loc=4)\n",
    "\n",
    "# plt.show()\n",
    "plt.savefig('plots/FINAL/clinical_results_roc.png')\n",
    "plt.close()\n",
    "print 'Done.'"
   ]
  },
  {
   "cell_type": "markdown",
   "metadata": {},
   "source": [
    "## Supplementary Figures"
   ]
  },
  {
   "cell_type": "markdown",
   "metadata": {},
   "source": [
    "### Methods: AIC Plot"
   ]
  },
  {
   "cell_type": "code",
   "execution_count": null,
   "metadata": {
    "collapsed": false
   },
   "outputs": [],
   "source": [
    "import rpy2\n",
    "import numpy as np\n",
    "import pylab as plt\n",
    "import seaborn as sns\n",
    "from pandas import DataFrame, read_csv\n",
    "%load_ext rpy2.ipython\n",
    "%R require(lme4)\n",
    "\n",
    "## Load data.\n",
    "df = read_csv('EMOTE_behav_data.csv')\n",
    "df = df[np.where(df.responseTimes,True,False)].reset_index(drop=True)"
   ]
  },
  {
   "cell_type": "code",
   "execution_count": null,
   "metadata": {
    "collapsed": false
   },
   "outputs": [],
   "source": [
    "%%R -i df -o AICs,BICs\n",
    "\n",
    "formula = 'responseTimes ~ (1|subject)'\n",
    "variables = c('interference','DBS','valence','arousal','TrialNum')\n",
    "AICs = c()\n",
    "BICs = c()\n",
    "\n",
    "for (variable in variables){\n",
    "    formula = paste(formula, variable, sep=' + ')\n",
    "    model = glmer(formula, data=df, family=Gamma(link='inverse'))\n",
    "    AICs = c(AICs, AIC(model))\n",
    "    BICs = c(BICs, BIC(model))\n",
    "}"
   ]
  },
  {
   "cell_type": "code",
   "execution_count": null,
   "metadata": {
    "collapsed": false
   },
   "outputs": [],
   "source": [
    "## Build dataframe\n",
    "variables = np.array(['Con','DBS','Val','Aro','Trial'] * 2)\n",
    "metrics = np.concatenate([ ['AIC'] * 5, ['BIC'] * 5 ])\n",
    "fits = DataFrame(dict(Fit = np.concatenate([AICs,BICs]),\n",
    "                      Model = variables,\n",
    "                      Metric = metrics))\n",
    "fits.Fit = np.sign(fits.Fit) * np.log(np.abs(fits.Fit))\n",
    "\n",
    "## Plotting\n",
    "fig, ax = plt.subplots(1,1,figsize=(6,6))\n",
    "sns.set(style=\"white\", font_scale=1.75)\n",
    "g = sns.factorplot(x='Model', y='Fit', hue='Metric', data=fits, \n",
    "               palette='colorblind', kind='point', ax=ax, legend=1)\n",
    "\n",
    "## Flourishes\n",
    "ax.legend_.set_title(None)\n",
    "ax.set_xticklabels(fits.Model.unique(), ha='center', weight='bold')\n",
    "ax.set_xlabel('')\n",
    "ax.set_yticks(np.linspace(-8.52, -8.48, 2))\n",
    "ax.set_ylabel('', labelpad=-1.0)\n",
    "ax.text(-1.0, -8.5, 'Model Deviance (Log Scale)', rotation=90, va='center')\n",
    "\n",
    "plt.close()\n",
    "plt.tight_layout()\n",
    "plt.show()"
   ]
  },
  {
   "cell_type": "markdown",
   "metadata": {},
   "source": [
    "# DEPRECATED"
   ]
  },
  {
   "cell_type": "markdown",
   "metadata": {},
   "source": [
    "## Code: Exhaustive model search using AIC/BIC"
   ]
  },
  {
   "cell_type": "code",
   "execution_count": null,
   "metadata": {
    "collapsed": false
   },
   "outputs": [],
   "source": [
    "import os\n",
    "import numpy as np\n",
    "import statsmodels.api as sm\n",
    "from itertools import combinations\n",
    "from pandas import DataFrame, read_csv\n",
    "\n",
    "#~~~~~~~~~~~~~~~~~~~~~~~~~~~~~~~~~~~~~~~~~~~~~~~~~~~#\n",
    "### Define parameters.\n",
    "#~~~~~~~~~~~~~~~~~~~~~~~~~~~~~~~~~~~~~~~~~~~~~~~~~~~#\n",
    "\n",
    "## I/O parameters.\n",
    "space = 'source'\n",
    "analysis = 'stim'\n",
    "domain = 'frequency'\n",
    "model = 'revised'\n",
    "contrast = 'DBS'\n",
    "fdr = 0.05\n",
    "\n",
    "#~~~~~~~~~~~~~~~~~~~~~~~~~~~~~~~~~~~~~~~~~~~~~~~~~~~#\n",
    "### Prepare clinical scores.\n",
    "#~~~~~~~~~~~~~~~~~~~~~~~~~~~~~~~~~~~~~~~~~~~~~~~~~~~#\n",
    "\n",
    "scores = read_csv('behavior/afMSIT_demographics.csv', index_col=0)\n",
    "subjects = scores.index\n",
    "\n",
    "madrs = scores['MADRS_Now'] - scores['MADRS_Base']\n",
    "mania = scores['Hypomania']\n",
    "\n",
    "#~~~~~~~~~~~~~~~~~~~~~~~~~~~~~~~~~~~~~~~~~~~~~~~~~~~#\n",
    "### Load and prepare power data.\n",
    "#~~~~~~~~~~~~~~~~~~~~~~~~~~~~~~~~~~~~~~~~~~~~~~~~~~~#\n",
    "\n",
    "info = read_csv(os.path.join(space, 'afMSIT_%s_info.csv' %space))\n",
    "\n",
    "## Load cluster results.\n",
    "results = read_csv(os.path.join(space, 'results', '%s_%s_%s_results.csv' %(model,analysis,domain)))\n",
    "results = results[(results.Contrast==contrast)&(results.FDR<fdr)]\n",
    "results = results[results['Freq']=='theta'].reset_index(drop=True)\n",
    "\n",
    "## Iteratively compute theta differences.\n",
    "delta = np.zeros([len(results),len(subjects)])\n",
    "\n",
    "for n in range(len(results)):\n",
    "    \n",
    "    label, tmin, tmax = results.loc[n,['Label','Tmin','Tmax']]\n",
    "    \n",
    "    ## Load time series data.\n",
    "    npz = np.load(os.path.join(space, 'afMSIT_%s_%s_%s_%s.npz' %(space, analysis, label, 'theta')))\n",
    "    data = npz['data']\n",
    "    times = npz['times']\n",
    "    \n",
    "    ## Compute condition differences.\n",
    "    mask = (times >= tmin) & (times <= tmax) # NOTE: collapsing across clusters\n",
    "\n",
    "    for m, subject in enumerate(subjects):\n",
    "        i, = np.where((info['Subject']==subject)&(info[contrast]==0))\n",
    "        j, = np.where((info['Subject']==subject)&(info[contrast]==1))\n",
    "        delta[n,m] += (data[j][:,mask].mean(axis=0) - data[i][:,mask].mean(axis=0)).mean()\n",
    "        \n",
    "## Prepare label names.\n",
    "labels = np.array([label.replace('-','_') for label in results.Label.as_matrix()], dtype='S12')\n",
    "for label in np.unique(labels):\n",
    "    if (labels==label).sum() > 1: \n",
    "        labels[np.where(labels==label)[0]] = ['%s%s' %(label,n+1) for n in range((labels==label).sum())]\n",
    "    else:\n",
    "        pass\n",
    "    \n",
    "## Convert to DataFrame.\n",
    "delta = DataFrame(delta.T, columns=labels, index=subjects)   \n",
    "delta['MADRS'] = madrs\n",
    "delta['Mania'] = mania\n",
    "\n",
    "## Normalize data.\n",
    "def zscore(arr): return (arr - arr.mean()) / arr.std()\n",
    "delta = delta.apply(zscore)\n",
    "\n",
    "#~~~~~~~~~~~~~~~~~~~~~~~~~~~~~~~~~~~~~~~~~~~~~~~~~~~#\n",
    "### Perform Iterative Regression.\n",
    "#~~~~~~~~~~~~~~~~~~~~~~~~~~~~~~~~~~~~~~~~~~~~~~~~~~~#\n",
    "\n",
    "## Generate all possible formulas.\n",
    "formulas = []\n",
    "for n in range(len(labels)): formulas += list(combinations(labels, n+1))\n",
    "formulas = np.array([' + '.join(f) for f in formulas])\n",
    "\n",
    "## Iteratively fit models and store information.\n",
    "aic, bic = [], []\n",
    "for formula in formulas:\n",
    "    \n",
    "    model = sm.OLS.from_formula('MADRS ~ %s' %formula, delta)\n",
    "    result = model.fit()\n",
    "    aic.append( result.aic )\n",
    "    bic.append( result.bic )\n",
    "    \n",
    "## Store in DataFrame.\n",
    "deviance = DataFrame(np.vstack([formulas,aic,bic]).T, columns=('Formula','AIC','BIC'))\n",
    "deviance[['AIC','BIC']] = deviance[['AIC','BIC']].astype(float)\n",
    "deviance = deviance.sort_values('AIC').reset_index(drop=True)"
   ]
  },
  {
   "cell_type": "markdown",
   "metadata": {},
   "source": [
    "## Code: Generating subject-level bootstraps"
   ]
  },
  {
   "cell_type": "code",
   "execution_count": null,
   "metadata": {
    "collapsed": true
   },
   "outputs": [],
   "source": [
    "#~~~~~~~~~~~~~~~~~~~~~~~~~~~~~~~~~~~~~~~~~~~~~~~~~~~#\n",
    "### Some useful functions (to replace Seaborn)\n",
    "#~~~~~~~~~~~~~~~~~~~~~~~~~~~~~~~~~~~~~~~~~~~~~~~~~~~#  \n",
    "\n",
    "def strjoin(arr): return ''.join(arr.astype(str))\n",
    "\n",
    "def generate_bootstraps(n, n_bootstrap=1000):\n",
    "    from scipy.misc import factorial\n",
    "    if factorial(n) < n_bootstrap: raise ValueError('Silly! More bootstraps requested than possible!')\n",
    "    \n",
    "    i, bootstraps = 0, np.zeros((n_bootstrap,n)).astype(int)\n",
    "    bootstrings = np.apply_along_axis(strjoin, 1, bootstraps)\n",
    "    \n",
    "    while i < n_bootstrap:\n",
    "        \n",
    "        ix = np.sort(np.random.choice(range(n), n, replace=True))\n",
    "        if len(np.unique(ix)) == 1: pass\n",
    "        elif strjoin(ix) in bootstrings: pass\n",
    "        else:\n",
    "            bootstraps[i] = ix\n",
    "            bootstrings = np.apply_along_axis(strjoin, 1, bootstraps)\n",
    "            i += 1\n",
    "            \n",
    "    return bootstraps\n",
    "    \n",
    "def bootstrap(x,y,df,xlim,ci=95,n_bootstrap=1000):\n",
    "    from scipy.stats import linregress\n",
    "    \n",
    "    ## Remove NaNs.\n",
    "    df = df[[x,y]].copy().dropna().reset_index(drop=True)\n",
    "    n = len(df)\n",
    "    \n",
    "    ## Preallocate space.\n",
    "    bootstraps = generate_bootstraps(n, n_bootstrap)\n",
    "    \n",
    "    ## Iterate.\n",
    "    simulations = np.zeros((n_bootstrap,100))\n",
    "    for i in range(n_bootstrap):\n",
    "        b1, b0, _, _, _ = linregress(df.loc[bootstraps[i],x], df.loc[bootstraps[i],y])\n",
    "        simulations[i] = b0 + b1 * np.linspace(xlim[0],xlim[1],100)\n",
    "        \n",
    "    ## Return confidence interval.\n",
    "    lb = np.percentile(simulations, (100 - ci) / 2., axis=0)\n",
    "    ub = np.percentile(simulations, ci + (100 - ci) / 2., axis=0)\n",
    "    return lb, ub\n",
    "\n",
    "#~~~~~~~~~~~~~~~~~~~~~~~~~~~~~~~~~~~~~~~~~~~~~~~~~~~#\n",
    "### Plotting.\n",
    "#~~~~~~~~~~~~~~~~~~~~~~~~~~~~~~~~~~~~~~~~~~~~~~~~~~~#  \n",
    "# np.random.seed(21305)\n",
    "    \n",
    "# df = DataFrame(np.vstack([delta,madrs,mania]).T, columns=['Theta','MADRS','Mania'])    \n",
    "# fig, axes = plt.subplots(1,2,figsize=(12,6))\n",
    "\n",
    "# ## MADRS x Theta.\n",
    "# axes[0].scatter(df['MADRS'], df['Theta'], s=50, color='#1f78b4')\n",
    "# x1,x2 = axes[0].get_xlim()\n",
    "# lb, ub = bootstrap('MADRS','Theta',df,(x1,x2))\n",
    "# axes[0].fill_between(np.linspace(x1,x2,lb.shape[-1]), lb, ub, color='#1f78b4', alpha=0.2)\n",
    "# axes[0].set_xlim(x1,x2)\n",
    "\n",
    "# ## MADRS x Theta.\n",
    "# axes[1].scatter(df['Mania'], df['Theta'], s=50, color='#1f78b4')\n",
    "# x1,x2 = axes[0].get_xlim()\n",
    "# lb, ub = bootstrap('Mania','Theta',df,(x1,x2))\n",
    "# axes[1].fill_between(np.linspace(x1,x2,lb.shape[-1]), lb, ub, color='#1f78b4', alpha=0.2)\n",
    "# axes[1].set_xlim(x1,x2)\n",
    "\n",
    "# ## Save.\n",
    "# for ext in ['png', 'svg']: plt.savefig('plots/FINAL/clinical_results.%s' %ext, dpi=120)"
   ]
  }
 ],
 "metadata": {
  "kernelspec": {
   "display_name": "Python 2",
   "language": "python",
   "name": "python2"
  },
  "language_info": {
   "codemirror_mode": {
    "name": "ipython",
    "version": 2
   },
   "file_extension": ".py",
   "mimetype": "text/x-python",
   "name": "python",
   "nbconvert_exporter": "python",
   "pygments_lexer": "ipython2",
   "version": "2.7.13"
  },
  "nav_menu": {},
  "toc": {
   "colors": {
    "hover_highlight": "#DAA520",
    "running_highlight": "#FF0000",
    "selected_highlight": "#FFD700"
   },
   "moveMenuLeft": true,
   "nav_menu": {
    "height": "207px",
    "width": "252px"
   },
   "navigate_menu": true,
   "number_sections": false,
   "sideBar": true,
   "threshold": 6,
   "toc_cell": false,
   "toc_position": {
    "height": "819px",
    "left": "0px",
    "right": "1089px",
    "top": "106px",
    "width": "212px"
   },
   "toc_section_display": "block",
   "toc_window_display": true
  }
 },
 "nbformat": 4,
 "nbformat_minor": 0
}
