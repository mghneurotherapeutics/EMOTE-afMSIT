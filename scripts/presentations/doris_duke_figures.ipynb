{
 "cells": [
  {
   "cell_type": "markdown",
   "metadata": {},
   "source": [
    "# MSIT Blobs"
   ]
  },
  {
   "cell_type": "code",
   "execution_count": 3,
   "metadata": {
    "collapsed": false
   },
   "outputs": [
    {
     "data": {
      "text/plain": [
       "((180.0, 90.0, 300.0, array([ 0.,  0.,  0.])), 90.0)"
      ]
     },
     "execution_count": 3,
     "metadata": {},
     "output_type": "execute_result"
    }
   ],
   "source": [
    "import os\n",
    "from surfer import Brain\n",
    "%matplotlib qt4\n",
    "\n",
    "fs_dir = '/autofs/space/sophia_002/users/EMOTE-DBS/freesurfs'\n",
    "subj_dir = os.environ[\"SUBJECTS_DIR\"]\n",
    "\n",
    "#~~~~~~~~~~~~~~~~~~~~~~~~~~~~~~~~~~~~~~~~~~~#\n",
    "### Define parameters\n",
    "#~~~~~~~~~~~~~~~~~~~~~~~~~~~~~~~~~~~~~~~~~~~#\n",
    "\n",
    "## Surface parameters.\n",
    "subject = \"fscopy\"\n",
    "surf = \"inflated\"\n",
    "hemi = 'lh'\n",
    "\n",
    "## I/O parameters.\n",
    "label = os.path.join(fs_dir, subject, 'label', 'april2016', 'dlpfc_5-lh.label')\n",
    "overlay = os.path.join(fs_dir, subject, 'label', 'april2016', 'darpa_msit_overlay-lh.mgz')\n",
    "color = '#AFFF94'\n",
    "\n",
    "#~~~~~~~~~~~~~~~~~~~~~~~~~~~~~~~~~~~~~~~~~~~#\n",
    "### Make Figure.\n",
    "#~~~~~~~~~~~~~~~~~~~~~~~~~~~~~~~~~~~~~~~~~~~#\n",
    "\n",
    "brain = Brain(subject, hemi, surf)\n",
    "brain.add_label(label, color=color, alpha=1, borders=3)\n",
    "brain.add_overlay(overlay, min=1.301, max=5, sign='pos', name='msit')\n",
    "brain.overlays['msit'].pos_bar.visible = False\n",
    "brain.show_view('lateral', distance=300)"
   ]
  },
  {
   "cell_type": "code",
   "execution_count": 4,
   "metadata": {
    "collapsed": false
   },
   "outputs": [],
   "source": [
    "brain.save_image('/space/sophia/2/users/EMOTE-DBS/afMSIT/plots/source/doris/doris_%s_%s.png' %(surf,color))"
   ]
  },
  {
   "cell_type": "markdown",
   "metadata": {},
   "source": [
    "# DLPFC-5 LH Theta "
   ]
  },
  {
   "cell_type": "code",
   "execution_count": null,
   "metadata": {
    "collapsed": false
   },
   "outputs": [],
   "source": [
    "import os\n",
    "import numpy as np\n",
    "import pylab as plt\n",
    "from pandas import read_csv\n",
    "\n",
    "#~~~~~~~~~~~~~~~~~~~~~~~~~~~~~~~~~~~~~~~~~~~~~~~~~~~#\n",
    "### Define parameters.\n",
    "#~~~~~~~~~~~~~~~~~~~~~~~~~~~~~~~~~~~~~~~~~~~~~~~~~~~#\n",
    "\n",
    "## File parameters.\n",
    "space = 'source'\n",
    "model_name = 'revised'\n",
    "label = 'dlpfc_5-lh'\n",
    "analysis = 'stim'\n",
    "freq = 'theta'\n",
    "baseline = (-0.5, -0.1)\n",
    "\n",
    "#~~~~~~~~~~~~~~~~~~~~~~~~~~~~~~~~~~~~~~~~~~~~~~~~~~~#\n",
    "### Load data.\n",
    "#~~~~~~~~~~~~~~~~~~~~~~~~~~~~~~~~~~~~~~~~~~~~~~~~~~~#\n",
    "\n",
    "root_dir = '/space/sophia/2/users/EMOTE-DBS/afMSIT/%s' %space\n",
    "img_dir = '/space/sophia/2/users/EMOTE-DBS/afMSIT/plots/%s' %space\n",
    "info = read_csv(os.path.join(root_dir, 'afMSIT_%s_info.csv' %space))\n",
    "\n",
    "## Load source data.\n",
    "npz = np.load(os.path.join(root_dir, 'afMSIT_%s_%s_%s_%s.npz' %(space,analysis,label,freq)))\n",
    "data = npz['data']\n",
    "times = npz['times']\n",
    "\n",
    "## Load cluster results.\n",
    "f = os.path.join(root_dir, 'results', '%s_%s_frequency_results.csv' %(model_name, analysis))\n",
    "clusters = read_csv(f)\n",
    "\n",
    "#~~~~~~~~~~~~~~~~~~~~~~~~~~~~~~~~~~~~~~~~~~~~~~~~~~~#\n",
    "### Initialize plotting\n",
    "#~~~~~~~~~~~~~~~~~~~~~~~~~~~~~~~~~~~~~~~~~~~~~~~~~~~#\n",
    "\n",
    "## Intialize figure.\n",
    "fig = plt.figure(figsize=(15,8), dpi=90)\n",
    "ax = plt.subplot2grid((1,1),(0,0))\n",
    "\n",
    "#~~~~~~~~~~~~~~~~~~~~~~~~~~~~~~~~~~~~~~~~~~~~~~~~~~~#\n",
    "### Plot DBS Difference.\n",
    "#~~~~~~~~~~~~~~~~~~~~~~~~~~~~~~~~~~~~~~~~~~~~~~~~~~~#\n",
    "\n",
    "for m, color, legend in zip([0,1],['#0571b0','#ca0020'],['DBS OFF','DBS ON']):\n",
    "\n",
    "    ix, = np.where(info.DBS==m)\n",
    "    mu = data[ix].mean(axis=0)\n",
    "    if analysis == 'stim': mu -= mu[(times >= baseline[0])&(times <= baseline[1])].mean()\n",
    "    se = data[ix].std(axis=0) / np.sqrt(len(ix))\n",
    "    ax.plot(times, mu, linewidth=7, color=color, label=legend)\n",
    "    ax.fill_between(times, mu-se, mu+se, color=color, alpha=0.15)\n",
    "\n",
    "## Plot significant clusters.\n",
    "for ix in np.where((clusters.Label==label)&(clusters.Freq==freq)&\n",
    "                   (clusters.Contrast=='DBS')&(clusters.FDR<0.05))[0]:\n",
    "    \n",
    "    y1, y2 = -1, 2.5\n",
    "    tmin, tmax = clusters.loc[ix,'Tmin'], clusters.loc[ix,'Tmax']\n",
    "    ax.fill_between(np.linspace(tmin,tmax,1e3), y1, y2, color='k', alpha=0.2) \n",
    "    ax.set_ylim(y1,y2)\n",
    "\n",
    "#~~~~~~~~~~~~~~~~~~~~~~~~~~~~~~~~~~~~~~~~~~~~~~~~~~~#\n",
    "### Add Flourishes\n",
    "#~~~~~~~~~~~~~~~~~~~~~~~~~~~~~~~~~~~~~~~~~~~~~~~~~~~#\n",
    "\n",
    "ax.legend(loc=2, fontsize=30, markerscale=2, frameon=False, borderpad=0, handletextpad=0.2, handlelength=1.5)\n",
    "ax.set_xlabel('Time (s)', fontsize=42)\n",
    "ax.set_ylabel('Power (dB)', fontsize=40)\n",
    "ax.tick_params(axis='both', which='major', labelsize=26)\n",
    "\n",
    "y1, y2 = ax.get_ylim()\n",
    "for x,s in zip([0, 0.4, 1.127],['IAPS','MSIT','Resp']): \n",
    "    ax.text(x+0.02,-0.75,s,fontsize=36)\n",
    "    ax.vlines(x,y1,y2,linewidth=5, linestyle='--',alpha=0.4)\n",
    "ax.set_ylim(-0.8,2.2)\n",
    "\n",
    "ax.spines['right'].set_visible(False)\n",
    "ax.spines['top'].set_visible(False)\n",
    "ax.axhline(y = -0.8, linewidth=4, color='k')\n",
    "ax.axvline(x = -0.5, linewidth=4, color='k')\n",
    "\n",
    "plt.tight_layout()\n",
    "# plt.show()\n",
    "plt.savefig('/space/sophia/2/users/EMOTE-DBS/afMSIT/plots/source/doris/dlpfc_5-lh.png')\n",
    "plt.close('all')\n",
    "print 'Done.'"
   ]
  }
 ],
 "metadata": {
  "kernelspec": {
   "display_name": "Python 2",
   "language": "python",
   "name": "python2"
  },
  "language_info": {
   "codemirror_mode": {
    "name": "ipython",
    "version": 2
   },
   "file_extension": ".py",
   "mimetype": "text/x-python",
   "name": "python",
   "nbconvert_exporter": "python",
   "pygments_lexer": "ipython2",
   "version": "2.7.12"
  },
  "nav_menu": {},
  "toc": {
   "navigate_menu": true,
   "number_sections": false,
   "sideBar": true,
   "threshold": 6,
   "toc_cell": false,
   "toc_section_display": "block",
   "toc_window_display": true
  }
 },
 "nbformat": 4,
 "nbformat_minor": 0
}
